{
 "cells": [
  {
   "cell_type": "markdown",
   "metadata": {
    "collapsed": false
   },
   "source": [
    "The following code constructs the following set consisting of all elliptic curves in the Cremona database:\n",
    "$$X=\\{(a_1,a_2,a_3,a_4,a_6), E(\\mathbb{Q})_{\\text{tors}}, (rmm(E)) |\\text{ for }E:y^2+a_1 x + a_3 y = x^3 + a_2 x^2 + a_4 x + a_6\\text{ an elliptic curve in Cremona's database}\\}$$"
   ]
  },
  {
   "cell_type": "code",
   "execution_count": 1,
   "metadata": {
    "collapsed": false
   },
   "outputs": [
   ],
   "source": [
    "c = CremonaDatabase('cremona')\n",
    "X=[]\n",
    "for n in (11..499998):\n",
    "\tif len(c.isogeny_classes(n))>0:\n",
    "\t\tm=len(c.isogeny_classes(n))\n",
    "\t\tfor l in (0..m-1):\n",
    "\t\t\tk=len(c.isogeny_classes(n)[l])\n",
    "\t\t\tfor u in (0..k-1):\n",
    "\t\t\t\tv=c.isogeny_classes(n)[l][u][0]\n",
    "\t\t\t\tE=EllipticCurve(v).minimal_model()\n",
    "\t\t\t\tX.append([v,E.torsion_subgroup().invariants(),(E.a1(),E.a2(),E.a3())])"
   ]
  },
  {
   "cell_type": "markdown",
   "metadata": {
    "collapsed": false
   },
   "source": [
    "Next, we create empty sets $T[n]$, $S[n]$, and $Q[n][m]$ where $n$ corresponds to one of the fifteen torsion subgroups and $m$ ranges from $1$ through $12$. More precisely, we let the torsion subgroup $C_n$ correspond to $n$ and the torsion subgroup $C_2 \\times C_{2k}$ correspond to $2k$. Below, we identify $n$ with its corresponding torsion subgroup, and say that the torsion subgroup is of type $n$.\n",
    "\n",
    "We also construct the sets $R[m]=R_i,$ where $R_i=(a_1,a_2,a_3)$ is one of the twelve possibilities occuring in (1.1)."
   ]
  },
  {
   "cell_type": "code",
   "execution_count": 2,
   "metadata": {
    "collapsed": false
   },
   "outputs": [
   ],
   "source": [
    "T = [ [] for n in (0..28)]\n",
    "S = [ [] for n in (0..28)]\n",
    "Q = [ [ []  for n in (0..12)    ] for  m in (0..28)  ]\n",
    "R = [ [], (0,0,0), (0,0,1), (0,-1,0), (0,-1,1), (0,1,0), (0,1,1), (1,0,0), (1,0,1), (1,-1,0), (1,-1,1), (1,1,0), (1,1,1) ]\n",
    "T[1],T[12],T[22],T[24],T[26],T[28]=(),(12,),(2,2),(2,4),(2,6),(2,8)\n",
    "for n in (2..10):\n",
    "\tT[n] = (n,)"
   ]
  },
  {
   "cell_type": "markdown",
   "metadata": {
    "collapsed": false
   },
   "source": [
    "The code below constructs the set:\n",
    "$$Q[n][m] = \\{ x \\in X |\\text{ the elliptic curve }E\\text{ determined by }x\\text{ has torsion subgroup of type }n \\text{ and rmm}=R_m\\}.$$"
   ]
  },
  {
   "cell_type": "code",
   "execution_count": 3,
   "metadata": {
    "collapsed": false
   },
   "outputs": [
   ],
   "source": [
    "for x in X:\n",
    "\tfor n in (1..28):\n",
    "\t\tif T[n] == x[1]:\n",
    "\t\t\tS[n].append(x)\n",
    "\t\t\tfor m in (1..12):\n",
    "\t\t\t\tif R[m] == x[2]:\n",
    "\t\t\t\t\tQ[n][m].append(x)"
   ]
  },
  {
   "cell_type": "markdown",
   "metadata": {
    "collapsed": false
   },
   "source": [
    "The code below verifies the numbers given in Table 4."
   ]
  },
  {
   "cell_type": "code",
   "execution_count": 4,
   "metadata": {
    "collapsed": false
   },
   "outputs": [
    {
     "name": "stdout",
     "output_type": "stream",
     "text": [
      "[1, 1683021, [17.0, 5.54, 11.7, 3.63, 11.3, 3.73, 6.85, 6.71, 10.1, 10.1, 6.67, 6.72]]\n",
      "[2, 1186350, [18.5, 0.000, 14.4, 0.000, 14.3, 0.000, 7.84, 8.10, 10.5, 10.2, 8.11, 7.97]]\n",
      "[3, 51405, [7.52, 7.67, 0.000, 0.000, 8.79, 9.29, 16.9, 19.7, 14.4, 15.7, 0.000, 0.000]]\n",
      "[4, 33558, [12.9, 0.000, 15.3, 0.000, 15.7, 0.000, 14.9, 3.89, 2.99, 13.3, 3.94, 17.0]]\n",
      "[5, 1503, [0.000, 0.000, 0.000, 10.8, 0.000, 16.6, 39.0, 0.000, 0.000, 0.000, 0.000, 33.6]]\n",
      "[6, 6759, [5.33, 0.000, 0.000, 0.000, 8.73, 0.000, 24.1, 28.4, 15.7, 17.8, 0.000, 0.000]]\n",
      "[7, 80, [0.000, 0.000, 0.000, 0.000, 0.000, 0.000, 73.8, 0.000, 0.000, 26.3, 0.000, 0.000]]\n",
      "[8, 178, [0.000, 0.000, 4.49, 0.000, 12.9, 0.000, 59.0, 0.000, 0.000, 0.000, 0.000, 23.6]]\n",
      "[9, 20, [0.000, 0.000, 0.000, 0.000, 0.000, 0.000, 75.0, 0.000, 0.000, 25.0, 0.000, 0.000]]\n",
      "[10, 42, [0.000, 0.000, 0.000, 0.000, 0.000, 0.000, 100., 0.000, 0.000, 0.000, 0.000, 0.000]]\n",
      "[12, 17, [0.000, 0.000, 0.000, 0.000, 0.000, 0.000, 41.2, 23.5, 0.000, 35.3, 0.000, 0.000]]\n",
      "[22, 99933, [17.8, 0.000, 13.5, 0.000, 13.6, 0.000, 8.52, 7.91, 11.3, 10.6, 7.89, 8.89]]\n",
      "[24, 1737, [0.000, 0.000, 17.8, 0.000, 18.6, 0.000, 29.6, 0.000, 0.000, 0.000, 0.000, 34.0]]\n",
      "[26, 96, [0.000, 0.000, 0.000, 0.000, 0.000, 0.000, 25.0, 32.3, 17.7, 25.0, 0.000, 0.000]]\n",
      "[28, 6, [0.000, 0.000, 0.000, 0.000, 0.000, 0.000, 100., 0.000, 0.000, 0.000, 0.000, 0.000]]\n"
     ]
    }
   ],
   "source": [
    "for n in (1..28):\n",
    "\tif n in (1..10) or n == 12 or n==22 or n==24 or n==26 or n==28:\n",
    "\t\tt=len(S[n])\n",
    "\t\tprint([n,t,[100*(QQ(len(Q[n][m])/t)).numerical_approx(digits=3) for m in (1..12)]])"
   ]
  },
  {
   "cell_type": "markdown",
   "metadata": {
    "collapsed": false
   },
   "source": [
    "The following code is the algorithm attained from Proposition 3.3. Note, that the algorithm below is redundant, as it asks for sage to compute the reduced minimal model of $E$ in order to obtain the invariants $c_4$ and $c_6$ associated to a global minimal model of $E$. This makes this implementation redundant. See definitions.sage for a version of the algorithm that takes $c_4$ and $c_6$ of a global minimal model and outputs the reduced minimal model of $E$. "
   ]
  },
  {
   "cell_type": "code",
   "execution_count": 5,
   "metadata": {
    "collapsed": false
   },
   "outputs": [
   ],
   "source": [
    "def RMM(E):\n",
    "\tc4=E.minimal_model().c4()\n",
    "\tc6=E.minimal_model().c6()\n",
    "\ta1=ZZ(mod(c6,2))\n",
    "\tc=ZZ(mod(2^(a1-1)*c6,24))\n",
    "\tif c == 0:\n",
    "\t\ta2,a3,A,B = 0,0, c4,2*c6\n",
    "\tif c == 12:\n",
    "\t\ta2,a3,A,B = 0,1,c4,2*(c6+216)\n",
    "\tif c == 8:\n",
    "\t\ta2,a3,A,B = -1,0,c4-16,2*(-6*c4+c6+32)\n",
    "\tif c == 20:\n",
    "\t\ta2,a3,A,B = -1,1,c4-16,2*(-6*c4+c6+248)\n",
    "\tif c == 16:\n",
    "\t\ta2,a3,A,B = 1,0,c4-16,2*(6*c4+c6-32)\n",
    "\tif c == 4:\n",
    "\t\ta2,a3,A,B = 1,1,c4-16,2*(6*c4+c6+184)\n",
    "\tif c == 23:\n",
    "\t\ta2,a3,A,B = 0,0,c4-1,3*c4 + 2*c6 -1\n",
    "\tif c == 11:\n",
    "\t\ta2,a3,A,B = 0,1,c4+23,3*c4 + 2*c6 +431\n",
    "\tif c == 3:\n",
    "\t\ta2,a3,A,B = -1,0,c4-9,-9*c4 + 2*c6 +27\n",
    "\tif c == 15:\n",
    "\t\ta2,a3,A,B = -1,1,c4+15,-9*c4 + 2*c6 +459\n",
    "\tif c == 19:\n",
    "\t\ta2,a3,A,B = 1,0,c4-25,15*c4 + 2*c6 -125\n",
    "\tif c == 7:\n",
    "\t\ta2,a3,A,B = 1,1,c4-1,15*c4 + 2*c6 + 307\n",
    "\treturn [a1,a2,a3,-A/48,-B/1728]"
   ]
  },
  {
   "cell_type": "markdown",
   "metadata": {
    "collapsed": false
   },
   "source": [
   ]
  },
  {
   "cell_type": "code",
   "execution_count": 6,
   "metadata": {
    "collapsed": false
   },
   "outputs": [
    {
     "name": "stdout",
     "output_type": "stream",
     "text": [
      "{True}\n"
     ]
    }
   ],
   "source": [
    "U=[]\n",
    "for x in X:\n",
    "\tE=EllipticCurve(x[0])\n",
    "\tU.append(RMM(E) == x[0])\n",
    "print(Set(U))"
   ]
  },
  {
   "cell_type": "code",
   "execution_count": 0,
   "metadata": {
    "collapsed": false
   },
   "outputs": [
   ],
   "source": [
   ]
  }
 ],
 "metadata": {
  "kernelspec": {
   "display_name": "SageMath 9.1",
   "language": "sagemath",
   "metadata": {
    "cocalc": {
     "description": "Open-source mathematical software system",
     "priority": 1,
     "url": "https://www.sagemath.org/"
    }
   },
   "name": "sage-9.1",
   "resource_dir": "/ext/jupyter/kernels/sage-9.1"
  },
  "language_info": {
   "codemirror_mode": {
    "name": "ipython",
    "version": 3
   },
   "file_extension": ".py",
   "mimetype": "text/x-python",
   "name": "python",
   "nbconvert_exporter": "python",
   "pygments_lexer": "ipython3",
   "version": "3.7.3"
  }
 },
 "nbformat": 4,
 "nbformat_minor": 4
}