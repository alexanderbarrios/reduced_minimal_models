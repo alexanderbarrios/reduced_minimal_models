{
 "cells": [
  {
   "cell_type": "code",
   "execution_count": 1,
   "metadata": {
    "collapsed": false
   },
   "outputs": [
   ],
   "source": [
    "load('definitions.sage')"
   ]
  },
  {
   "cell_type": "markdown",
   "metadata": {
    "collapsed": false
   },
   "source": [
    "In definitions.sage, we define R[i] for $1\\leq i \\leq 12$ to be the triple $R_i=(a_1,a_2,a_3)$ given in (1.1). For a fixed $R_i$, the code below outputs $[c_4,c_6]$, where $c_4$ and $c_6$ are the invariants associated to the elliptic curve $F_i = y^2+a_1 xy + a_3 y = x^3 +a_2 x^2 +a_4 x + a_6$ over $\\mathbb{Q}(a_4,a_6)$. In particular, this verifies the first claim in the proof of Lemma 3.1."
   ]
  },
  {
   "cell_type": "code",
   "execution_count": 2,
   "metadata": {
    "collapsed": false
   },
   "outputs": [
    {
     "name": "stdout",
     "output_type": "stream",
     "text": [
      "[(-48) * a4, (-864) * a6]\n",
      "[(-48) * a4, (-216) * (4*a6 + 1)]\n",
      "[(-16) * (3*a4 - 1), (-32) * (9*a4 + 27*a6 - 2)]\n",
      "[(-16) * (3*a4 - 1), (-8) * (36*a4 + 108*a6 + 19)]\n",
      "[(-16) * (3*a4 - 1), (-32) * (-9*a4 + 27*a6 + 2)]\n",
      "[(-16) * (3*a4 - 1), (-8) * (-36*a4 + 108*a6 + 35)]\n",
      "[(-1) * (48*a4 - 1), (-1) * (-72*a4 + 864*a6 + 1)]\n",
      "[(-1) * (48*a4 + 23), (-1) * (-72*a4 + 864*a6 + 181)]\n",
      "[(-3) * (16*a4 - 3), (-27) * (8*a4 + 32*a6 - 1)]\n",
      "[(-3) * (16*a4 + 5), (-27) * (8*a4 + 32*a6 + 11)]\n",
      "[(-1) * (48*a4 - 25), (-1) * (-360*a4 + 864*a6 + 125)]\n",
      "[(-1) * (48*a4 - 1), (-1) * (-360*a4 + 864*a6 + 161)]\n"
     ]
    }
   ],
   "source": [
    "K.<a4,a6,c4,c6,k> = QQ[]\n",
    "def F(R):\n",
    "\ta1=ZZ(R[0])\n",
    "\ta2=ZZ(R[1])\n",
    "\ta3=ZZ(R[2])\n",
    "\tE=EllipticCurve(K.fraction_field(),[a1,a2,a3,a4,a6])\n",
    "\treturn [factor(E.c4()),factor(E.c6())]\n",
    "for n in (1..12):\n",
    "\tprint(F(R[n]))"
   ]
  },
  {
   "cell_type": "markdown",
   "metadata": {
    "collapsed": false
   },
   "source": [
    "The code below verifies Table 2. In particular, for a fixed $R_i$, S[i] $=[A_i,B_i]$. This concludes the verification of Lemma 3.1."
   ]
  },
  {
   "cell_type": "code",
   "execution_count": 3,
   "metadata": {
    "collapsed": false
   },
   "outputs": [
    {
     "name": "stdout",
     "output_type": "stream",
     "text": [
      "True\n",
      "True\n",
      "True\n",
      "True\n",
      "True\n",
      "True\n",
      "True\n",
      "True\n",
      "True\n",
      "True\n",
      "True\n",
      "True\n"
     ]
    }
   ],
   "source": [
    "def G(R,A,B):\n",
    "\ta1=ZZ(R[0])\n",
    "\ta2=ZZ(R[1])\n",
    "\ta3=ZZ(R[2])\n",
    "\tE=EllipticCurve(K.fraction_field(),[a1,a2,a3,-A/48,-B/1728])\n",
    "\tif expand(c4 - E.c4() == 0) and expand(c6 - E.c6()) == 0:\n",
    "\t\treturn 'True'\n",
    "\telse:\n",
    "\t\treturn 'False'\n",
    "S = [ [], [c4,2*c6], [c4,2*(c6+216)] , [c4-16,2*(-6*c4+c6+32)], [c4-16,2*(-6*c4+c6+248)] , [c4-16,2*(6*c4+c6-32)], [c4-16,2*(6*c4+c6+184)], [c4-1,3*c4 + 2*c6 -1] , [c4+23,3*c4 + 2*c6 +431], [c4-9,-9*c4 + 2*c6 +27], [c4+15,-9*c4 + 2*c6 +459] , [c4-25,15*c4 + 2*c6 -125],  [c4-1,15*c4 + 2*c6 + 307]  ]\n",
    "for n in (1..12):\n",
    "\tprint(G(R[n],S[n][0],S[n][1]))"
   ]
  },
  {
   "cell_type": "markdown",
   "metadata": {
    "collapsed": false
   },
   "source": [
    "Next, we consider Corollary 3.2. Let $A_i$ and $B_i$ be as given in Table 2. By the above, S[i] $=[A_i,B_i]$. Moreover, we have that $A_i = 48l$ and $B_i=1728k$ for some integers $k,l$. For each $i$, the code below constructs the set C4[i], which contains of the singleton attained by solving the equation $A_i = 48l$ for $c_4$ and reducing modulo $48$.\n",
    "\n",
    "The set C6[i] consists of the singleton attained from solving for $c_6$ in the equation $B_i=1728k$. In particular, the singleton in C6[i] is in terms of $k$ and $c_4$.\n",
    "\n",
    "We then construct the set T[i], by considering all instances where $ 0 \\leq c_4 \\leq 864 $ and $c_4$ is congruent modulo $48$ to the singleton in C4[i]. For the values of $c_4$ where this holds, we reduce the expression in C6[i] modulo $864$. In particular, we may take $k=0$. We append the resulting values to the set T[i], and the values are given below."
   ]
  },
  {
   "cell_type": "code",
   "execution_count": 4,
   "metadata": {
    "collapsed": false
   },
   "outputs": [
    {
     "name": "stdout",
     "output_type": "stream",
     "text": [
      "[0]\n",
      "[648]\n",
      "[64, 352, 640]\n",
      "[136, 424, 712]\n",
      "[224, 512, 800]\n",
      "[8, 296, 584]\n",
      "[71, 143, 215, 287, 359, 431, 503, 575, 647, 719, 791, 863]\n",
      "[35, 107, 179, 251, 323, 395, 467, 539, 611, 683, 755, 827]\n",
      "[27, 243, 459, 675]\n",
      "[135, 351, 567, 783]\n",
      "[19, 91, 163, 235, 307, 379, 451, 523, 595, 667, 739, 811]\n",
      "[55, 127, 199, 271, 343, 415, 487, 559, 631, 703, 775, 847]\n"
     ]
    }
   ],
   "source": [
    "var('c4,c6,k,l')\n",
    "C4 = [ [] for n in (0..12) ]\n",
    "C6 = [ [] for n in (0..12) ]\n",
    "T = [ [] for n in(0..12)  ]\n",
    "for n in (1..12):\n",
    "\tC4[n].append(PolyMod(solve(S[n][0] == 48*l,c4)[0].right(),48))\n",
    "\tC6[n].append(solve(S[n][1] == 1728*k,c6)[0].right())\n",
    "for n in (1..12):\n",
    "\tc6(c4,k,l) = C6[n][0]\n",
    "\tfor c4 in (0..864):\n",
    "\t\tk=0\n",
    "\t\tif ZZ(mod(c4,48)) == ZZ(C4[n][0]):\n",
    "\t\t\tT[n].append(ZZ(mod(c6(c4,k),864)))\n",
    "for n in (1..12):\n",
    "\tprint(sorted(Set(T[n])))"
   ]
  },
  {
   "cell_type": "markdown",
   "metadata": {
    "collapsed": false
   },
   "source": [
    "By the above, we see that (3.2) holds for $i=1,2$. The code below verifies the remaining cases on (3.2). This concludes the verification Corollary 3.2."
   ]
  },
  {
   "cell_type": "code",
   "execution_count": 5,
   "metadata": {
    "collapsed": false
   },
   "outputs": [
    {
     "name": "stdout",
     "output_type": "stream",
     "text": [
      "[0]\n",
      "[648]\n",
      "[64]\n",
      "[136]\n",
      "[224]\n",
      "[8]\n",
      "[71]\n",
      "[35]\n",
      "[27]\n",
      "[63]\n",
      "[19]\n",
      "[55]\n"
     ]
    }
   ],
   "source": [
    "W = [ [] for n in (0..12)]\n",
    "for n in (1,2):\n",
    "\tW[n]=sorted(Set(T[n]))\n",
    "for n in (3..6):\n",
    "\tW[n]=sorted(Set([mod(x,288) for x in T[n]]))\n",
    "for n in (7..12):\n",
    "\tW[n]=sorted(Set([mod(x,72) for x in T[n]]))\n",
    "for n in (1..12):\n",
    "\tprint(W[n])"
   ]
  },
  {
   "cell_type": "markdown",
   "metadata": {
    "collapsed": false
   },
   "source": [
    "The code below verifies Proposition 3.3."
   ]
  },
  {
   "cell_type": "code",
   "execution_count": 6,
   "metadata": {
    "collapsed": false
   },
   "outputs": [
    {
     "name": "stdout",
     "output_type": "stream",
     "text": [
      "0\n",
      "12\n",
      "8\n",
      "20\n",
      "16\n",
      "4\n",
      "23\n",
      "11\n",
      "3\n",
      "15\n",
      "19\n",
      "7\n"
     ]
    }
   ],
   "source": [
    "for n in (1..12):\n",
    "\tc6=ZZ(W[n][0])\n",
    "\ta1 = ZZ(mod(c6,2))\n",
    "\tprint(ZZ(mod(2^(a1-1)*c6,24)))"
   ]
  },
  {
   "cell_type": "markdown",
   "metadata": {
    "collapsed": false
   },
   "source": [
    "The code below verifies Example 3.4."
   ]
  },
  {
   "cell_type": "code",
   "execution_count": 7,
   "metadata": {
    "collapsed": false
   },
   "outputs": [
    {
     "name": "stdout",
     "output_type": "stream",
     "text": [
      "(420241, -303183289, -10245657600000)\n",
      "23\n",
      "-8755\n",
      "350177\n"
     ]
    }
   ],
   "source": [
    "E=EllipticCurve([-11346507,16371897606])\n",
    "Em=E.minimal_model()\n",
    "sig = (Em.c4(),Em.c6(),Em.discriminant())\n",
    "print(sig)\n",
    "print(mod(sig[1],24))\n",
    "print(-(sig[0]-1)/48)\n",
    "print(-(3*sig[0]+2*sig[1]-1)/1728)"
   ]
  },
  {
   "cell_type": "code",
   "execution_count": 0,
   "metadata": {
    "collapsed": false
   },
   "outputs": [
   ],
   "source": [
   ]
  }
 ],
 "metadata": {
  "kernelspec": {
   "display_name": "SageMath 9.1",
   "language": "sagemath",
   "metadata": {
    "cocalc": {
     "description": "Open-source mathematical software system",
     "priority": 1,
     "url": "https://www.sagemath.org/"
    }
   },
   "name": "sage-9.1",
   "resource_dir": "/ext/jupyter/kernels/sage-9.1"
  },
  "language_info": {
   "codemirror_mode": {
    "name": "ipython",
    "version": 3
   },
   "file_extension": ".py",
   "mimetype": "text/x-python",
   "name": "python",
   "nbconvert_exporter": "python",
   "pygments_lexer": "ipython3",
   "version": "3.7.3"
  }
 },
 "nbformat": 4,
 "nbformat_minor": 4
}