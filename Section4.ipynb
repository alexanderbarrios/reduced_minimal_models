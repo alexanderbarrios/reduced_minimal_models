{
 "cells": [
  {
   "cell_type": "code",
   "execution_count": 19,
   "metadata": {
    "collapsed": false
   },
   "outputs": [
   ],
   "source": [
    "load('definitions.sage')"
   ]
  },
  {
   "cell_type": "code",
   "execution_count": 5,
   "metadata": {
    "collapsed": false
   },
   "outputs": [
   ],
   "source": [
    "T = [ [ []  for n in (0..12)    ] for  m in (0..28)  ]\n",
    "W = [ [] for n in (0..28)]\n",
    "Q = [[],[],gam2,gam3,gam4,gam5, gam6, gam7, gam8, gam9, gam10, [], gam12, [], [], [], [], [], [], [], [], [], gam22, [], gam24 ,[], gam26,[], gam28]\n",
    "R = [[], [0],[12],[8],[20],[16],[4],[23],[11],[3],[15],[19],[7] ]"
   ]
  },
  {
   "cell_type": "markdown",
   "metadata": {
    "collapsed": false
   },
   "source": [
   ]
  },
  {
   "cell_type": "code",
   "execution_count": 31,
   "metadata": {
    "collapsed": false
   },
   "outputs": [
   ],
   "source": [
    "T = [ [ []  for n in (0..12)    ] for  m in (0..28)  ]\n",
    "W = [ [] for n in (0..28)]\n",
    "Q = [[],[],gam2,gam3,gam4,gam5, gam6, gam7, gam8, gam9, gam10, [], gam12, [], [], [], [], [], [], [], [], [], gam22, [], gam24 ,[], gam26,[], gam28]\n",
    "for n in (2..28):\n",
    "\tif n == 2:\n",
    "\t\tT[n][0] = set2(Q[n],30)\n",
    "\tif n == 4:\n",
    "\t\tT[n][0] = set4(Q[n],30)\n",
    "\tif n == 22:\n",
    "\t\tT[n][0] = set22(Q[n],30)\n",
    "\tif n in [3,5,6,7,8,9,10,12,24,26,28]:\n",
    "\t\tT[n][0] = set1(Q[n],30)"
   ]
  },
  {
   "cell_type": "markdown",
   "metadata": {
    "collapsed": false
   },
   "source": [
    "**Case $T=C_2$.** "
   ]
  },
  {
   "cell_type": "code",
   "execution_count": 51,
   "metadata": {
    "collapsed": false
   },
   "outputs": [
    {
     "name": "stdout",
     "output_type": "stream",
     "text": [
      "True\n",
      "True\n",
      "True\n",
      "True\n",
      "True\n",
      "True\n",
      "True\n",
      "True\n",
      "True\n",
      "True\n"
     ]
    }
   ],
   "source": [
    "for x in T[2][0]:\n",
    "\ta=x[0]\n",
    "\tb=x[1]\n",
    "\td=x[2]\n",
    "\tc6=sig2(a,b,d)[1]\n",
    "\ta1=ZZ(mod(c6,2))\n",
    "\tc=2^(a1-1)*c6\n",
    "\tif ZZ(mod(a,3)) == 0:\n",
    "\t\tif vp(b,2) < 3 or ZZ(mod(a,4)) != 3:\n",
    "\t\t\tif vp(b^2*d-a^2,2) <4 or vp(a,2) != 1:\n",
    "\t\t\t\tT[2][1].append(ZZ(mod(c,24)))\n",
    "\t\t\t\tW[2].append((a,b,d))\n",
    "\t\tif is_even(a) and ZZ(mod(b,4)) == 2:\n",
    "\t\t\tif vp(b^2*d-a^2,2) <8 or ZZ(mod(a,8)) != 2:\n",
    "\t\t\t\tT[2][1].append(ZZ(mod(c,24)))\n",
    "\t\t\t\tW[2].append((a,b,d))\n",
    "\tif ZZ(mod(a,3)) == 1:\n",
    "\t\tif vp(b,2) < 3 or ZZ(mod(a,4)) != 3:\n",
    "\t\t\tif vp(b^2*d-a^2,2) <4 or vp(a,2) != 1:\n",
    "\t\t\t\tT[2][3].append(ZZ(mod(c,24)))\n",
    "\t\t\t\tW[2].append((a,b,d))\n",
    "\t\tif ZZ(mod(a,6)) == 4 and ZZ(mod(b,4)) == 2:\n",
    "\t\t\tif vp(b^2*d-a^2,2) <8 or ZZ(mod(a,8)) != 2:\n",
    "\t\t\t\tT[2][3].append(ZZ(mod(c,24)))\n",
    "\t\t\t\tW[2].append((a,b,d))\n",
    "\tif ZZ(mod(a,3)) == 2:\n",
    "\t\tif vp(b,2) < 3 or ZZ(mod(a,4)) != 3:\n",
    "\t\t\tif vp(b^2*d-a^2,2) <4 or vp(a,2) != 1:\n",
    "\t\t\t\tT[2][5].append(ZZ(mod(c,24)))\n",
    "\t\t\t\tW[2].append((a,b,d))\n",
    "\t\tif ZZ(mod(a,6)) == 2 and ZZ(mod(b,4)) == 2:\n",
    "\t\t\tif vp(b^2*d-a^2,2) <8 or ZZ(mod(a,8)) != 2:\n",
    "\t\t\t\tT[2][5].append(ZZ(mod(c,24)))\n",
    "\t\t\t\tW[2].append((a,b,d))\n",
    "\tif ZZ(mod(a,48)) == 2 and ZZ(mod(b,4)) == 2 and vp(b^2*d-a^2,2) > 7:\n",
    "\t\tT[2][7].append(ZZ(mod(c,24)))\n",
    "\t\tW[2].append((a,b,d))\n",
    "\tif ZZ(mod(a,24)) == 23 and ZZ(mod(b,8)) == 0:\n",
    "\t\tT[2][7].append(ZZ(mod(c,24)))\n",
    "\t\tW[2].append((a,b,d))\n",
    "\tif ZZ(mod(a,48)) == 26 and ZZ(mod(b,4)) == 2 and vp(b^2*d-a^2,2) > 7:\n",
    "\t\tT[2][8].append(ZZ(mod(c,24)))\n",
    "\t\tW[2].append((a,b,d))\n",
    "\tif ZZ(mod(a,24)) == 11 and ZZ(mod(b,8)) == 0:\n",
    "\t\tT[2][8].append(ZZ(mod(c,24)))\n",
    "\t\tW[2].append((a,b,d))\n",
    "\tif ZZ(mod(a,48)) == 42 and ZZ(mod(b,4)) == 2 and vp(b^2*d-a^2,2) > 7:\n",
    "\t\tT[2][9].append(ZZ(mod(c,24)))\n",
    "\t\tW[2].append((a,b,d))\n",
    "\tif ZZ(mod(a,24)) == 3 and ZZ(mod(b,8)) == 0:\n",
    "\t\tT[2][9].append(ZZ(mod(c,24)))\n",
    "\t\tW[2].append((a,b,d))\n",
    "\tif ZZ(mod(a,48)) == 18 and ZZ(mod(b,4)) == 2 and vp(b^2*d-a^2,2) > 7:\n",
    "\t\tT[2][10].append(ZZ(mod(c,24)))\n",
    "\t\tW[2].append((a,b,d))\n",
    "\tif ZZ(mod(a,24)) == 15 and ZZ(mod(b,8)) == 0:\n",
    "\t\tT[2][10].append(ZZ(mod(c,24)))\n",
    "\t\tW[2].append((a,b,d))\n",
    "\tif ZZ(mod(a,48)) == 10 and ZZ(mod(b,4)) == 2 and vp(b^2*d-a^2,2) > 7:\n",
    "\t\tT[2][11].append(ZZ(mod(c,24)))\n",
    "\t\tW[2].append((a,b,d))\n",
    "\tif ZZ(mod(a,24)) == 19 and ZZ(mod(b,8)) == 0:\n",
    "\t\tT[2][11].append(ZZ(mod(c,24)))\n",
    "\t\tW[2].append((a,b,d))\n",
    "\tif ZZ(mod(a,48)) == 34 and ZZ(mod(b,4)) == 2 and vp(b^2*d-a^2,2) > 7:\n",
    "\t\tT[2][12].append(ZZ(mod(c,24)))\n",
    "\t\tW[2].append((a,b,d))\n",
    "\tif ZZ(mod(a,24)) == 7 and ZZ(mod(b,8)) == 0:\n",
    "\t\tT[2][12].append(ZZ(mod(c,24)))\n",
    "\t\tW[2].append((a,b,d))\n",
    "for n in (1,3,5,7,8,9,10,11,12):\n",
    "\tprint(Set(T[2][n]) == Set(R[n]))\n",
    "print(Set(T[2][0]) == Set(W[2]))"
   ]
  },
  {
   "cell_type": "markdown",
   "metadata": {
    "collapsed": false
   },
   "source": [
    "**Case $T=C_3^0$.** "
   ]
  },
  {
   "cell_type": "code",
   "execution_count": 52,
   "metadata": {
    "collapsed": false
   },
   "outputs": [
    {
     "name": "stdout",
     "output_type": "stream",
     "text": [
      "True\n",
      "True\n",
      "True\n"
     ]
    }
   ],
   "source": [
    "T30, T301 , T302, W30 = [] , [], [], []\n",
    "for a in (1..130):\n",
    "\tif is_cubefree(a) and gam30(a) != 0:\n",
    "\t\tT30.append(a)\n",
    "for a in T30:\n",
    "\tc6=sig30(a,b)[1]\n",
    "\ta1=ZZ(mod(c6,2))\n",
    "\tc=2^(a1-1)*c6\n",
    "\tif is_even(a):\n",
    "\t\tT301.append(ZZ(mod(c,24)))\n",
    "\t\tW30.append(a)\n",
    "\tif is_odd(a):\n",
    "\t\tT302.append(ZZ(mod(c,24)))\n",
    "\t\tW30.append(a)\n",
    "print(Set(T301) == Set(R[1]))\n",
    "print(Set(T302) == Set(R[2]))\n",
    "print(Set(T30) == Set(W30))"
   ]
  },
  {
   "cell_type": "markdown",
   "metadata": {
    "collapsed": false
   },
   "source": [
    "**Case $T=C_3$.** "
   ]
  },
  {
   "cell_type": "code",
   "execution_count": 53,
   "metadata": {
    "collapsed": false
   },
   "outputs": [
    {
     "name": "stdout",
     "output_type": "stream",
     "text": [
      "True\n",
      "True\n",
      "True\n",
      "True\n",
      "True\n",
      "True\n",
      "True\n",
      "True\n",
      "True\n"
     ]
    }
   ],
   "source": [
    "for x in T[3][0]:\n",
    "\ta=x[0]\n",
    "\tb=x[1]\n",
    "\tc6=sig3(a,b)[1]\n",
    "\ta1=ZZ(mod(c6,2))\n",
    "\tc=2^(a1-1)*c6\n",
    "\tif ZZ(mod(a,6)) == 0 and ZZ(mod(vp(a,2),3)) != 0:\n",
    "\t\tT[3][1].append(ZZ(mod(c,24)))\n",
    "\t\tW[3].append((a,b))\n",
    "\tif ZZ(mod(a,6)) == 0 and ZZ(mod(vp(a,2),3)) == 0:\n",
    "\t\tT[3][2].append(ZZ(mod(c,24)))\n",
    "\t\tW[3].append((a,b))\n",
    "\tif ZZ(mod(a,6)) in [2,4] and ZZ(mod(vp(a,2),3)) != 0:\n",
    "\t\tT[3][5].append(ZZ(mod(c,24)))\n",
    "\t\tW[3].append((a,b))\n",
    "\tif ZZ(mod(a,6)) in [2,4] and ZZ(mod(vp(a,2),3)) == 0:\n",
    "\t\tT[3][6].append(ZZ(mod(c,24)))\n",
    "\t\tW[3].append((a,b))\n",
    "\tif ZZ(mod(a,6)) in [1,5] and is_even(b):\n",
    "\t\tT[3][7].append(ZZ(mod(c,24)))\n",
    "\t\tW[3].append((a,b))\n",
    "\tif ZZ(mod(a,6)) in [1,5] and is_odd(b):\n",
    "\t\tT[3][8].append(ZZ(mod(c,24)))\n",
    "\t\tW[3].append((a,b))\n",
    "\tif ZZ(mod(a,6)) == 3 and is_odd(b):\n",
    "\t\tT[3][9].append(ZZ(mod(c,24)))\n",
    "\t\tW[3].append((a,b))\n",
    "\tif ZZ(mod(a,6)) == 3 and is_even(b):\n",
    "\t\tT[3][10].append(ZZ(mod(c,24)))\n",
    "\t\tW[3].append((a,b))\n",
    "for n in [1,2,5,6,7,8,9,10]:\n",
    "\tprint(Set(T[3][n]) == Set(R[n]))\n",
    "print(Set(T[3][0]) == Set(W[3]))"
   ]
  },
  {
   "cell_type": "markdown",
   "metadata": {
    "collapsed": false
   },
   "source": [
    "**Case $T=C_4$.** "
   ]
  },
  {
   "cell_type": "code",
   "execution_count": 54,
   "metadata": {
    "collapsed": false
   },
   "outputs": [
    {
     "name": "stdout",
     "output_type": "stream",
     "text": [
      "True\n",
      "True\n",
      "True\n",
      "True\n",
      "True\n",
      "True\n",
      "True\n",
      "True\n",
      "True\n",
      "True\n"
     ]
    }
   ],
   "source": [
    "for x in T[4][0]:\n",
    "\ta=x[0]\n",
    "\tb=x[1]\n",
    "\td=sqdecom(a)[1]\n",
    "\tc6=sig4(a,b)[1]\n",
    "\ta1=ZZ(mod(c6,2))\n",
    "\tc=2^(a1-1)*c6\n",
    "\tif vp(a,2)<8 or ZZ(mod(b*d,4)) !=3:\n",
    "\t\tif is_even(a):\n",
    "\t\t\tif vp(a*b*(a+b),3) == 0 or is_odd(vp(a,3)):\n",
    "\t\t\t\tT[4][1].append(ZZ(mod(c,24)))\n",
    "\t\t\t\tW[4].append((a,b))\n",
    "\t\t\tif ZZ(mod(a+b,3)) == 0:\n",
    "\t\t\t\tT[4][3].append(ZZ(mod(c,24)))\n",
    "\t\t\t\tW[4].append((a,b))\n",
    "\t\t\tif ZZ(mod(a,3)) == 0 and is_even(vp(a,3)) and ZZ(mod(b*d,6)) in [1,4]:\n",
    "\t\t\t\tT[4][3].append(ZZ(mod(c,24)))\n",
    "\t\t\t\tW[4].append((a,b))\n",
    "\t\t\tif ZZ(mod(b,3)) == 0:\n",
    "\t\t\t\tT[4][5].append(ZZ(mod(c,24)))\n",
    "\t\t\t\tW[4].append((a,b))\n",
    "\t\t\tif ZZ(mod(a,3)) == 0 and is_even(vp(a,3)) and ZZ(mod(b*d,6)) in [2,5]:\n",
    "\t\t\t\tT[4][5].append(ZZ(mod(c,24)))\n",
    "\t\t\t\tW[4].append((a,b))\n",
    "\t\tif is_odd(a):\n",
    "\t\t\tif ZZ(mod(b,3)) == 0:\n",
    "\t\t\t\tT[4][7].append(ZZ(mod(c,24)))\n",
    "\t\t\t\tW[4].append((a,b))\n",
    "\t\t\tif ZZ(mod(a,3)) == 0 and is_even(vp(a,3)) and ZZ(mod(b*d,6)) in [2,5]:\n",
    "\t\t\t\tT[4][7].append(ZZ(mod(c,24)))\n",
    "\t\t\t\tW[4].append((a,b))\n",
    "\t\t\tif vp(a*b*(a+b),3) == 0 or is_odd(vp(a,3)):\n",
    "\t\t\t\tT[4][10].append(ZZ(mod(c,24)))\n",
    "\t\t\t\tW[4].append((a,b))\n",
    "\t\t\tif ZZ(mod(a+b,3)) == 0:\n",
    "\t\t\t\tT[4][12].append(ZZ(mod(c,24)))\n",
    "\t\t\t\tW[4].append((a,b))\n",
    "\t\t\tif ZZ(mod(a,3)) == 0 and is_even(vp(a,3)) and ZZ(mod(b*d,6)) in [1,4]:\n",
    "\t\t\t\tT[4][12].append(ZZ(mod(c,24)))\n",
    "\t\t\t\tW[4].append((a,b))\n",
    "\tif vp(a,2) > 7 and is_even(vp(a,2)) and ZZ(mod(b*d,4)) == 3:\n",
    "\t\tif ZZ(mod(b*d,16)) in [3,11]:\n",
    "\t\t\tif ZZ(mod(b,3)) == 0:\n",
    "\t\t\t\tT[4][8].append(ZZ(mod(c,24)))\n",
    "\t\t\t\tW[4].append((a,b))\n",
    "\t\t\tif ZZ(mod(a,3)) == 0 and is_even(vp(a,3)) and ZZ(mod(b*d,12)) == 11:\n",
    "\t\t\t\tT[4][8].append(ZZ(mod(c,24)))\n",
    "\t\t\t\tW[4].append((a,b))\n",
    "\t\t\tif vp(a*b*(a+b),3) == 0 or is_odd(vp(a,3)):\n",
    "\t\t\t\tT[4][9].append(ZZ(mod(c,24)))\n",
    "\t\t\t\tW[4].append((a,b))\n",
    "\t\t\tif ZZ(mod(a+b,3)) == 0:\n",
    "\t\t\t\tT[4][11].append(ZZ(mod(c,24)))\n",
    "\t\t\t\tW[4].append((a,b))\n",
    "\t\t\tif ZZ(mod(a,3)) == 0 and is_even(vp(a,3)) and ZZ(mod(b*d,12)) ==7:\n",
    "\t\t\t\tT[4][11].append(ZZ(mod(c,24)))\n",
    "\t\t\t\tW[4].append((a,b))\n",
    "\t\tif ZZ(mod(b*d,16)) in [7,15]:\n",
    "\t\t\tif ZZ(mod(b,3)) == 0:\n",
    "\t\t\t\tT[4][7].append(ZZ(mod(c,24)))\n",
    "\t\t\t\tW[4].append((a,b))\n",
    "\t\t\tif ZZ(mod(a,3)) == 0 and is_even(vp(a,3)) and ZZ(mod(b*d,12)) == 11:\n",
    "\t\t\t\tT[4][7].append(ZZ(mod(c,24)))\n",
    "\t\t\t\tW[4].append((a,b))\n",
    "\t\t\tif vp(a*b*(a+b),3) == 0 or is_odd(vp(a,3)):\n",
    "\t\t\t\tT[4][10].append(ZZ(mod(c,24)))\n",
    "\t\t\t\tW[4].append((a,b))\n",
    "\t\t\tif ZZ(mod(a+b,3)) == 0:\n",
    "\t\t\t\tT[4][12].append(ZZ(mod(c,24)))\n",
    "\t\t\t\tW[4].append((a,b))\n",
    "\t\t\tif ZZ(mod(a,3)) == 0 and ZZ(mod(b*d,12)) ==7:\n",
    "\t\t\t\tT[4][12].append(ZZ(mod(c,24)))\n",
    "\t\t\t\tW[4].append((a,b))\n",
    "for n in (1,3,5,7,8,9,10,11,12):\n",
    "\tprint(Set(T[4][n]) == Set(R[n]))\n",
    "print(Set(T[4][0]) == Set(W[4]))"
   ]
  },
  {
   "cell_type": "markdown",
   "metadata": {
    "collapsed": false
   },
   "source": [
    "**Case $T=C_5$.** "
   ]
  },
  {
   "cell_type": "code",
   "execution_count": 55,
   "metadata": {
    "collapsed": false
   },
   "outputs": [
    {
     "name": "stdout",
     "output_type": "stream",
     "text": [
      "True\n",
      "True\n",
      "True\n",
      "True\n",
      "True\n"
     ]
    }
   ],
   "source": [
    "for x in T[5][0]:\n",
    "\ta=x[0]\n",
    "\tb=x[1]\n",
    "\tc6=sig5(a,b)[1]\n",
    "\ta1=ZZ(mod(c6,2))\n",
    "\tc=2^(a1-1)*c6\n",
    "\tif ZZ(mod(a*b,6)) == 1 or ZZ(mod(a*b,6)) == 5:\n",
    "\t\tT[5][4].append(ZZ(mod(c,24)))\n",
    "\t\tW[5].append((a,b))\n",
    "\tif ZZ(mod(a*b,6)) == 3:\n",
    "\t\tT[5][6].append(ZZ(mod(c,24)))\n",
    "\t\tW[5].append((a,b))\n",
    "\tif ZZ(mod(a*b,6)) == 0:\n",
    "\t\tT[5][7].append(ZZ(mod(c,24)))\n",
    "\t\tW[5].append((a,b))\n",
    "\tif ZZ(mod(a*b,6)) == 2 or ZZ(mod(a*b,6)) == 4:\n",
    "\t\tT[5][12].append(ZZ(mod(c,24)))\n",
    "\t\tW[5].append((a,b))\n",
    "for n in (4,6,7,12):\n",
    "\tprint(Set(T[5][n]) == Set(R[n]))\n",
    "print(Set(T[5][0]) == Set(W[5]))"
   ]
  },
  {
   "cell_type": "markdown",
   "metadata": {
    "collapsed": false
   },
   "source": [
    "**Case $T=C_6$.** "
   ]
  },
  {
   "cell_type": "code",
   "execution_count": 56,
   "metadata": {
    "collapsed": false
   },
   "outputs": [
    {
     "name": "stdout",
     "output_type": "stream",
     "text": [
      "True\n",
      "True\n",
      "True\n",
      "True\n",
      "True\n",
      "True\n",
      "True\n"
     ]
    }
   ],
   "source": [
    "for x in T[6][0]:\n",
    "\ta=x[0]\n",
    "\tb=x[1]\n",
    "\tc6=sig6(a,b)[1]\n",
    "\ta1=ZZ(mod(c6,2))\n",
    "\tc=2^(a1-1)*c6\n",
    "\tif ZZ(mod(a,6)) == 3 and ZZ(vp(a+b,2)) in [1,2]:\n",
    "\t\tT[6][1].append(ZZ(mod(c,24)))\n",
    "\t\tW[6].append((a,b))\n",
    "\tif ZZ(mod(a,6)) in [1,5] and ZZ(vp(a+b,2)) in [1,2]:\n",
    "\t\tT[6][5].append(ZZ(mod(c,24)))\n",
    "\t\tW[6].append((a,b))\n",
    "\tif ZZ(mod(a,6)) in [1,5] and ZZ(vp(a+b,2)) not in [1,2,3]:\n",
    "\t\tT[6][7].append(ZZ(mod(c,24)))\n",
    "\t\tW[6].append((a,b))\n",
    "\tif ZZ(mod(a,6)) in [2,4]:\n",
    "\t\tT[6][8].append(ZZ(mod(c,24)))\n",
    "\t\tW[6].append((a,b))\n",
    "\tif ZZ(mod(a,6)) in [1,5] and ZZ(vp(a+b,2)) == 3:\n",
    "\t\tT[6][8].append(ZZ(mod(c,24)))\n",
    "\t\tW[6].append((a,b))\n",
    "\tif ZZ(mod(a,6)) == 0:\n",
    "\t\tT[6][9].append(ZZ(mod(c,24)))\n",
    "\t\tW[6].append((a,b))\n",
    "\tif ZZ(mod(a,6)) == 3 and ZZ(vp(a+b,2)) == 3:\n",
    "\t\tT[6][9].append(ZZ(mod(c,24)))\n",
    "\t\tW[6].append((a,b))\n",
    "\tif ZZ(mod(a,6)) == 3 and ZZ(vp(a+b,2)) not in [1,2,3]:\n",
    "\t\tT[6][10].append(ZZ(mod(c,24)))\n",
    "\t\tW[6].append((a,b))\n",
    "for n in (1,5,7,8,9,10):\n",
    "\tprint(Set(T[6][n]) == Set(R[n]))\n",
    "print(Set(T[6][0]) == Set(W[6]))"
   ]
  },
  {
   "cell_type": "markdown",
   "metadata": {
    "collapsed": false
   },
   "source": [
    "**Case $T=C_7$.** "
   ]
  },
  {
   "cell_type": "code",
   "execution_count": 58,
   "metadata": {
    "collapsed": false
   },
   "outputs": [
    {
     "name": "stdout",
     "output_type": "stream",
     "text": [
      "True\n",
      "True\n",
      "True\n"
     ]
    }
   ],
   "source": [
    "for x in T[7][0]:\n",
    "\ta=x[0]\n",
    "\tb=x[1]\n",
    "\tc6=sig7(a,b)[1]\n",
    "\ta1=ZZ(mod(c6,2))\n",
    "\tc=2^(a1-1)*c6\n",
    "\tif ZZ(mod(a+b,3)) in [1,2]:\n",
    "\t\tT[7][7].append(ZZ(mod(c,24)))\n",
    "\t\tW[7].append((a,b))\n",
    "\tif ZZ(mod(a+b,3)) == 0:\n",
    "\t\tT[7][10].append(ZZ(mod(c,24)))\n",
    "\t\tW[7].append((a,b))\n",
    "for n in (7,10):\n",
    "\tprint(Set(T[7][n]) == Set(R[n]))\n",
    "print(Set(T[7][0]) == Set(W[7]))"
   ]
  },
  {
   "cell_type": "markdown",
   "metadata": {
    "collapsed": false
   },
   "source": [
    "**Case $T=C_8$.** "
   ]
  },
  {
   "cell_type": "code",
   "execution_count": 59,
   "metadata": {
    "collapsed": false
   },
   "outputs": [
    {
     "name": "stdout",
     "output_type": "stream",
     "text": [
      "True\n",
      "True\n",
      "True\n",
      "True\n",
      "True\n"
     ]
    }
   ],
   "source": [
    "for x in T[8][0]:\n",
    "\ta=x[0]\n",
    "\tb=x[1]\n",
    "\tc6=sig8(a,b)[1]\n",
    "\ta1=ZZ(mod(c6,2))\n",
    "\tc=2^(a1-1)*c6\n",
    "\tif ZZ(mod(a,12)) == 0:\n",
    "\t\tT[8][3].append(ZZ(mod(c,24)))\n",
    "\t\tW[8].append((a,b))\n",
    "\tif ZZ(mod(a,12)) in [4,8]:\n",
    "\t\tT[8][5].append(ZZ(mod(c,24)))\n",
    "\t\tW[8].append((a,b))\n",
    "\tif ZZ(mod(a,12)) in [1,11,2,10,5,7]:\n",
    "\t\tT[8][7].append(ZZ(mod(c,24)))\n",
    "\t\tW[8].append((a,b))\n",
    "\tif ZZ(mod(a,12)) in [3,6,9]:\n",
    "\t\tT[8][12].append(ZZ(mod(c,24)))\n",
    "\t\tW[8].append((a,b))\n",
    "for n in (3,5,7,12):\n",
    "\tprint(Set(T[8][n]) == Set(R[n]))\n",
    "print(Set(T[8][0]) == Set(W[8]))"
   ]
  },
  {
   "cell_type": "markdown",
   "metadata": {
    "collapsed": false
   },
   "source": [
    "**Case $T=C_9$.** "
   ]
  },
  {
   "cell_type": "code",
   "execution_count": 60,
   "metadata": {
    "collapsed": false
   },
   "outputs": [
    {
     "name": "stdout",
     "output_type": "stream",
     "text": [
      "True\n",
      "True\n",
      "True\n"
     ]
    }
   ],
   "source": [
    "for x in T[9][0]:\n",
    "\ta=x[0]\n",
    "\tb=x[1]\n",
    "\tc6=sig9(a,b)[1]\n",
    "\ta1=ZZ(mod(c6,2))\n",
    "\tc=2^(a1-1)*c6\n",
    "\tif ZZ(mod(a+b,3)) in [1,2]:\n",
    "\t\tT[9][7].append(ZZ(mod(c,24)))\n",
    "\t\tW[9].append((a,b))\n",
    "\tif ZZ(mod(a+b,3)) == 0:\n",
    "\t\tT[9][10].append(ZZ(mod(c,24)))\n",
    "\t\tW[9].append((a,b))\n",
    "for n in (7,10):\n",
    "\tprint(Set(T[9][n]) == Set(R[n]))\n",
    "print(Set(T[9][0]) == Set(W[9]))"
   ]
  },
  {
   "cell_type": "markdown",
   "metadata": {
    "collapsed": false
   },
   "source": [
    "**Case $T=C_{10}$.** "
   ]
  },
  {
   "cell_type": "code",
   "execution_count": 62,
   "metadata": {
    "collapsed": false
   },
   "outputs": [
    {
     "name": "stdout",
     "output_type": "stream",
     "text": [
      "True\n",
      "True\n"
     ]
    }
   ],
   "source": [
    "for x in T[10][0]:\n",
    "\ta=x[0]\n",
    "\tb=x[1]\n",
    "\tc6=sig10(a,b)[1]\n",
    "\ta1=ZZ(mod(c6,2))\n",
    "\tc=2^(a1-1)*c6\n",
    "\tT[10][7].append(ZZ(mod(c,24)))\n",
    "\tW[10].append((a,b))\n",
    "print(Set(T[10][7]) == Set(R[7]))\n",
    "print(Set(T[10][0]) == Set(W[10]))"
   ]
  },
  {
   "cell_type": "markdown",
   "metadata": {
    "collapsed": false
   },
   "source": [
    "**Case $T=C_{12}$.** "
   ]
  },
  {
   "cell_type": "code",
   "execution_count": 64,
   "metadata": {
    "collapsed": false
   },
   "outputs": [
    {
     "name": "stdout",
     "output_type": "stream",
     "text": [
      "True\n",
      "True\n",
      "True\n",
      "True\n",
      "True\n"
     ]
    }
   ],
   "source": [
    "for x in T[12][0]:\n",
    "\ta=x[0]\n",
    "\tb=x[1]\n",
    "\tc6=sig12(a,b)[1]\n",
    "\ta1=ZZ(mod(c6,2))\n",
    "\tc=2^(a1-1)*c6\n",
    "\tif ZZ(mod(a,12)) in [1,11,2,10,5,7]:\n",
    "\t\tT[12][7].append(ZZ(mod(c,24)))\n",
    "\t\tW[12].append((a,b))\n",
    "\tif ZZ(mod(a,12)) in [4,8]:\n",
    "\t\tT[12][8].append(ZZ(mod(c,24)))\n",
    "\t\tW[12].append((a,b))\n",
    "\tif ZZ(mod(a,12)) == 0:\n",
    "\t\tT[12][9].append(ZZ(mod(c,24)))\n",
    "\t\tW[12].append((a,b))\n",
    "\tif ZZ(mod(a,12)) in [3,6,9]:\n",
    "\t\tT[12][10].append(ZZ(mod(c,24)))\n",
    "\t\tW[12].append((a,b))\n",
    "for n in (7,8,9,10):\n",
    "\tprint(Set(T[12][n]) == Set(R[n]))\n",
    "print(Set(T[12][0]) == Set(W[12]))"
   ]
  },
  {
   "cell_type": "markdown",
   "metadata": {
    "collapsed": false
   },
   "source": [
    "**Case $T=C_{2} \\times C_2$.** "
   ]
  },
  {
   "cell_type": "code",
   "execution_count": 66,
   "metadata": {
    "collapsed": false
   },
   "outputs": [
    {
     "name": "stdout",
     "output_type": "stream",
     "text": [
      "True\n",
      "True\n",
      "True\n",
      "True\n",
      "True\n",
      "True\n",
      "True\n",
      "True\n",
      "True\n",
      "True\n"
     ]
    }
   ],
   "source": [
    "for x in T[22][0]:\n",
    "\ta=x[0]\n",
    "\tb=x[1]\n",
    "\td=x[2]\n",
    "\tc6=sig22(a,b,d)[1]\n",
    "\ta1=ZZ(mod(c6,2))\n",
    "\tc=2^(a1-1)*c6\n",
    "\tif vp(a,2) < 4 or ZZ(mod(b*d,4)) != 1:\n",
    "\t\tif ZZ(mod(d*(a+b),3)) == 0:\n",
    "\t\t\tT[22][1].append(ZZ(mod(c,24)))\n",
    "\t\t\tW[22].append((a,b,d))\n",
    "\t\tif ZZ(mod(d*(a+b),3)) == 2:\n",
    "\t\t\tT[22][3].append(ZZ(mod(c,24)))\n",
    "\t\t\tW[22].append((a,b,d))\n",
    "\t\tif ZZ(mod(d*(a+b),3)) == 1:\n",
    "\t\t\tT[22][5].append(ZZ(mod(c,24)))\n",
    "\t\t\tW[22].append((a,b,d))\n",
    "\tif vp(a,2) > 3 and ZZ(mod(b*d,4)) == 1:\n",
    "\t\tif ZZ(mod(d*(a+b),24)) == 1:\n",
    "\t\t\tT[22][7].append(ZZ(mod(c,24)))\n",
    "\t\t\tW[22].append((a,b,d))\n",
    "\t\tif ZZ(mod(d*(a+b),24)) == 13:\n",
    "\t\t\tT[22][8].append(ZZ(mod(c,24)))\n",
    "\t\t\tW[22].append((a,b,d))\n",
    "\t\tif ZZ(mod(d*(a+b),24)) == 21:\n",
    "\t\t\tT[22][9].append(ZZ(mod(c,24)))\n",
    "\t\t\tW[22].append((a,b,d))\n",
    "\t\tif ZZ(mod(d*(a+b),24)) == 9:\n",
    "\t\t\tT[22][10].append(ZZ(mod(c,24)))\n",
    "\t\t\tW[22].append((a,b,d))\n",
    "\t\tif ZZ(mod(d*(a+b),24)) == 5:\n",
    "\t\t\tT[22][11].append(ZZ(mod(c,24)))\n",
    "\t\t\tW[22].append((a,b,d))\n",
    "\t\tif ZZ(mod(d*(a+b),24)) == 17:\n",
    "\t\t\tT[22][12].append(ZZ(mod(c,24)))\n",
    "\t\t\tW[22].append((a,b,d))\n",
    "for n in (1,3,5,7,8,9,10,11,12):\n",
    "\tprint(Set(T[22][n]) == Set(R[n]))\n",
    "print(Set(T[22][0]) == Set(W[22]))"
   ]
  },
  {
   "cell_type": "markdown",
   "metadata": {
    "collapsed": false
   },
   "source": [
    "**Case $T=C_{2} \\times C_4$.** "
   ]
  },
  {
   "cell_type": "code",
   "execution_count": 67,
   "metadata": {
    "collapsed": false
   },
   "outputs": [
    {
     "name": "stdout",
     "output_type": "stream",
     "text": [
      "True\n",
      "True\n",
      "True\n",
      "True\n",
      "True\n"
     ]
    }
   ],
   "source": [
    "for x in T[24][0]:\n",
    "\ta=x[0]\n",
    "\tb=x[1]\n",
    "\tc6=sig24(a,b)[1]\n",
    "\ta1=ZZ(mod(c6,2))\n",
    "\tc=2^(a1-1)*c6\n",
    "\tif ZZ(mod(a,12)) == 6 and ZZ(mod(a*b,12)) == 6:\n",
    "\t\tT[24][3].append(ZZ(mod(c,24)))\n",
    "\t\tW[24].append((a,b))\n",
    "\tif ZZ(mod(a,12)) == 0 and ZZ(mod(a*b,48)) in [0,24,36]:\n",
    "\t\tT[24][3].append(ZZ(mod(c,24)))\n",
    "\t\tW[24].append((a,b))\n",
    "\tif ZZ(mod(a,12)) in [2,10] and ZZ(mod(a*b,12)) == 10:\n",
    "\t\tT[24][3].append(ZZ(mod(c,24)))\n",
    "\t\tW[24].append((a,b))\n",
    "\tif ZZ(mod(a,12)) in [4,8] and ZZ(mod(a*b,48)) in [4,16,40]:\n",
    "\t\tT[24][3].append(ZZ(mod(c,24)))\n",
    "\t\tW[24].append((a,b))\n",
    "\tif ZZ(mod(a,12)) in [2,10] and ZZ(mod(a*b,12)) in [2,6]:\n",
    "\t\tT[24][5].append(ZZ(mod(c,24)))\n",
    "\t\tW[24].append((a,b))\n",
    "\tif ZZ(mod(a,12)) in [4,8] and ZZ(mod(a*b,48)) in [0,8,20,24,32,36]:\n",
    "\t\tT[24][5].append(ZZ(mod(c,24)))\n",
    "\t\tW[24].append((a,b))\n",
    "\tif ZZ(mod(a,6)) in [1,5] and ZZ(mod(a*b,3)) in [0, 2]:\n",
    "\t\tT[24][7].append(ZZ(mod(c,24)))\n",
    "\t\tW[24].append((a,b))\n",
    "\tif ZZ(mod(a,12)) in [4,8] and ZZ(mod(a*b,48)) in [12,44]:\n",
    "\t\tT[24][7].append(ZZ(mod(c,24)))\n",
    "\t\tW[24].append((a,b))\n",
    "\tif ZZ(mod(a,6)) in [1,5] and ZZ(mod(a*b,3)) == 1:\n",
    "\t\tT[24][12].append(ZZ(mod(c,24)))\n",
    "\t\tW[24].append((a,b))\n",
    "\tif ZZ(mod(a,6)) == 3 and ZZ(mod(a*b,3)) == 0:\n",
    "\t\tT[24][12].append(ZZ(mod(c,24)))\n",
    "\t\tW[24].append((a,b))\n",
    "\tif ZZ(mod(a,12)) in [4,8] and ZZ(mod(a*b,48)) == 28:\n",
    "\t\tT[24][12].append(ZZ(mod(c,24)))\n",
    "\t\tW[24].append((a,b))\n",
    "\tif ZZ(mod(a,12)) ==0 and ZZ(mod(a*b,48)) ==12:\n",
    "\t\tT[24][12].append(ZZ(mod(c,24)))\n",
    "\t\tW[24].append((a,b))\n",
    "for n in (3,5,7,12):\n",
    "\tprint(Set(T[24][n]) == Set(R[n]))\n",
    "print(Set(T[24][0]) == Set(W[24]))"
   ]
  },
  {
   "cell_type": "markdown",
   "metadata": {
    "collapsed": false
   },
   "source": [
    "**Case $T=C_{2} \\times C_6$.** "
   ]
  },
  {
   "cell_type": "code",
   "execution_count": 69,
   "metadata": {
    "collapsed": false
   },
   "outputs": [
    {
     "name": "stdout",
     "output_type": "stream",
     "text": [
      "True\n",
      "True\n",
      "True\n",
      "True\n",
      "True\n"
     ]
    }
   ],
   "source": [
    "for x in T[26][0]:\n",
    "\ta=x[0]\n",
    "\tb=x[1]\n",
    "\tc6=sig26(a,b)[1]\n",
    "\ta1=ZZ(mod(c6,2))\n",
    "\tc=2^(a1-1)*c6\n",
    "\tif is_odd(a+b) and ZZ(mod(b,3)) != 0:\n",
    "\t\tT[26][7].append(ZZ(mod(c,24)))\n",
    "\t\tW[26].append((a,b))\n",
    "\tif is_even(a+b) and ZZ(mod(a*(a+b),48)) in [2,6,18,38]:\n",
    "\t\tT[26][7].append(ZZ(mod(c,24)))\n",
    "\t\tW[26].append((a,b))\n",
    "\tif is_even(a+b) and ZZ(mod(a*(a+b),48)) in [0,8,12,14,20,24,26,32,30,36,42,44]:\n",
    "\t\tT[26][8].append(ZZ(mod(c,24)))\n",
    "\t\tW[26].append((a,b))\n",
    "\tif is_even(a+b) and ZZ(mod(a*(a+b),48)) in [4,10,16,28,40,46]:\n",
    "\t\tT[26][9].append(ZZ(mod(c,24)))\n",
    "\t\tW[26].append((a,b))\n",
    "\tif is_odd(a+b) and ZZ(mod(b,3)) == 0:\n",
    "\t\tT[26][10].append(ZZ(mod(c,24)))\n",
    "\t\tW[26].append((a,b))\n",
    "\tif is_even(a+b) and ZZ(mod(a*(a+b),48)) in [22,34]:\n",
    "\t\tT[26][10].append(ZZ(mod(c,24)))\n",
    "\t\tW[26].append((a,b))\n",
    "for n in (7,8,9,10):\n",
    "\tprint(Set(T[26][n]) == Set(R[n]))\n",
    "print(Set(T[26][0]) == Set(W[26]))"
   ]
  },
  {
   "cell_type": "markdown",
   "metadata": {
    "collapsed": false
   },
   "source": [
    "**Case $T=C_{2} \\times C_8$.** "
   ]
  },
  {
   "cell_type": "code",
   "execution_count": 63,
   "metadata": {
    "collapsed": false
   },
   "outputs": [
    {
     "name": "stdout",
     "output_type": "stream",
     "text": [
      "True\n",
      "True\n"
     ]
    }
   ],
   "source": [
    "for x in T[28][0]:\n",
    "\ta=x[0]\n",
    "\tb=x[1]\n",
    "\tc6=sig28(a,b)[1]\n",
    "\ta1=ZZ(mod(c6,2))\n",
    "\tc=2^(a1-1)*c6\n",
    "\tT[28][7].append(ZZ(mod(c,24)))\n",
    "\tW[28].append((a,b))\n",
    "print(Set(T[28][7]) == Set(R[7]))\n",
    "print(Set(T[28][0]) == Set(W[28]))"
   ]
  },
  {
   "cell_type": "code",
   "execution_count": 0,
   "metadata": {
    "collapsed": false
   },
   "outputs": [
   ],
   "source": [
   ]
  }
 ],
 "metadata": {
  "kernelspec": {
   "display_name": "SageMath 9.1",
   "language": "sagemath",
   "metadata": {
    "cocalc": {
     "description": "Open-source mathematical software system",
     "priority": 1,
     "url": "https://www.sagemath.org/"
    }
   },
   "name": "sage-9.1",
   "resource_dir": "/ext/jupyter/kernels/sage-9.1"
  },
  "language_info": {
   "codemirror_mode": {
    "name": "ipython",
    "version": 3
   },
   "file_extension": ".py",
   "mimetype": "text/x-python",
   "name": "python",
   "nbconvert_exporter": "python",
   "pygments_lexer": "ipython3",
   "version": "3.7.3"
  }
 },
 "nbformat": 4,
 "nbformat_minor": 4
}