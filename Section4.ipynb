{
 "cells": [
  {
   "cell_type": "code",
   "execution_count": 12,
   "metadata": {
    "collapsed": false
   },
   "outputs": [
   ],
   "source": [
    "load('definitions.sage')"
   ]
  },
  {
   "cell_type": "code",
   "execution_count": 14,
   "metadata": {
    "collapsed": false
   },
   "outputs": [
    {
     "name": "stdout",
     "output_type": "stream",
     "text": [
      "True\n",
      "True\n",
      "True\n",
      "True\n",
      "True\n",
      "True\n",
      "True\n",
      "True\n",
      "True\n"
     ]
    }
   ],
   "source": [
    "T3=set1(gam3,130)\n",
    "T3a=[]\n",
    "T3b=[]\n",
    "T3c=[]\n",
    "T3d=[]\n",
    "T3e=[]\n",
    "T3f=[]\n",
    "T3g=[]\n",
    "T3h=[]\n",
    "W3=[]\n",
    "for x in T3:\n",
    "\ta=x[0]\n",
    "\tb=x[1]\n",
    "\tsig=sig3\n",
    "\tif ZZ(mod(a,6)) == 0 and ZZ(mod(vp(a,2),3)) != 0:\n",
    "\t\tT3a.append((A1(a,b,sig),A2(a,b,sig),A3(a,b,sig)))\n",
    "\t\tW3.append((a,b))\n",
    "\tif ZZ(mod(a,6)) == 0 and ZZ(mod(vp(a,2),3)) == 0:\n",
    "\t\tT3b.append((A1(a,b,sig),A2(a,b,sig),A3(a,b,sig)))\n",
    "\t\tW3.append((a,b))\n",
    "\tif ZZ(mod(a,6)) in [2,4] and ZZ(mod(vp(a,2),3)) != 0:\n",
    "\t\tT3c.append((A1(a,b,sig),A2(a,b,sig),A3(a,b,sig)))\n",
    "\t\tW3.append((a,b))\n",
    "\tif ZZ(mod(a,6)) in [2,4] and ZZ(mod(vp(a,2),3)) == 0:\n",
    "\t\tT3d.append((A1(a,b,sig),A2(a,b,sig),A3(a,b,sig)))\n",
    "\t\tW3.append((a,b))\n",
    "\tif ZZ(mod(a,6)) in [1,5] and is_even(b):\n",
    "\t\tT3e.append((A1(a,b,sig),A2(a,b,sig),A3(a,b,sig)))\n",
    "\t\tW3.append((a,b))\n",
    "\tif ZZ(mod(a,6)) in [1,5] and is_odd(b):\n",
    "\t\tT3f.append((A1(a,b,sig),A2(a,b,sig),A3(a,b,sig)))\n",
    "\t\tW3.append((a,b))\n",
    "\tif ZZ(mod(a,6)) == 3 and is_odd(b):\n",
    "\t\tT3g.append((A1(a,b,sig),A2(a,b,sig),A3(a,b,sig)))\n",
    "\t\tW3.append((a,b))\n",
    "\tif ZZ(mod(a,6)) == 3 and is_even(b):\n",
    "\t\tT3h.append((A1(a,b,sig),A2(a,b,sig),A3(a,b,sig)))\n",
    "\t\tW3.append((a,b))\n",
    "print(Set(T3a) == R1)\n",
    "print(Set(T3b) == R2)\n",
    "print(Set(T3c) == R5)\n",
    "print(Set(T3d) == R6)\n",
    "print(Set(T3e) == R7)\n",
    "print(Set(T3f) == R8)\n",
    "print(Set(T3g) == R9)\n",
    "print(Set(T3h) == R10)\n",
    "print(Set(T3) == Set(W3))"
   ]
  },
  {
   "cell_type": "code",
   "execution_count": 15,
   "metadata": {
    "collapsed": false
   },
   "outputs": [
    {
     "name": "stdout",
     "output_type": "stream",
     "text": [
      "True\n",
      "True\n",
      "True\n"
     ]
    }
   ],
   "source": [
    "T30 = []\n",
    "T30a= []\n",
    "T30b= []\n",
    "W30 = []\n",
    "for a in (1..130):\n",
    "\tif is_cubefree(a) and gam30(a) != 0:\n",
    "\t\tT30.append(a)\n",
    "for a in T30:\n",
    "\tsig = sig30\n",
    "\tif is_even(a):\n",
    "\t\tT30a.append((A1(a,1,sig),A2(a,1,sig),A3(a,1,sig)))\n",
    "\t\tW30.append(a)\n",
    "\tif is_odd(a):\n",
    "\t\tT30b.append((A1(a,1,sig),A2(a,1,sig),A3(a,b,sig)))\n",
    "\t\tW30.append(a)\n",
    "print(Set(T30a) == R1)\n",
    "print(Set(T30b) == R2)\n",
    "print(Set(T30) == Set(W30))"
   ]
  },
  {
   "cell_type": "code",
   "execution_count": 16,
   "metadata": {
    "collapsed": false
   },
   "outputs": [
    {
     "name": "stdout",
     "output_type": "stream",
     "text": [
      "True\n",
      "True\n",
      "True\n",
      "True\n",
      "True\n",
      "True\n",
      "True\n",
      "True\n",
      "True\n",
      "True\n",
      "True\n",
      "True\n",
      "True\n",
      "True\n",
      "True\n",
      "True\n",
      "True\n",
      "True\n",
      "True\n",
      "True\n",
      "True\n"
     ]
    }
   ],
   "source": [
    "T4=set2(gam4,130)\n",
    "T4a=[]\n",
    "T4b=[]\n",
    "T4c=[]\n",
    "T4d=[]\n",
    "T4e=[]\n",
    "T4f=[]\n",
    "T4g=[]\n",
    "T4h=[]\n",
    "T4i=[]\n",
    "T4j=[]\n",
    "T4k=[]\n",
    "T4l=[]\n",
    "T4m=[]\n",
    "T4n=[]\n",
    "T4o=[]\n",
    "T4p=[]\n",
    "T4q=[]\n",
    "T4r=[]\n",
    "T4s=[]\n",
    "T4t=[]\n",
    "T4u=[]\n",
    "T4v=[]\n",
    "T4w=[]\n",
    "W4=[]\n",
    "for x in T4:\n",
    "\ta=x[0]\n",
    "\tb=x[1]\n",
    "\td=sqdecom(a)[1]\n",
    "\tsig=sig4\n",
    "\tif vp(a,2)<8 or ZZ(mod(b*d,4)) !=3:\n",
    "\t\tif is_even(a):\n",
    "\t\t\tif vp(a*b*(a+b),3) == 0 or is_odd(vp(a,3)):\n",
    "\t\t\t\tT4a.append((A1(a,b,sig),A2(a,b,sig),A3(a,b,sig)))\n",
    "\t\t\t\tW4.append((a,b))\n",
    "\t\t\tif ZZ(mod(a+b,3)) == 0:\n",
    "\t\t\t\tT4b.append((A1(a,b,sig),A2(a,b,sig),A3(a,b,sig)))\n",
    "\t\t\t\tW4.append((a,b))\n",
    "\t\t\tif ZZ(mod(a,3)) == 0 and is_even(vp(a,3)) and ZZ(mod(b*d,6)) in [1,4]:\n",
    "\t\t\t\tT4c.append((A1(a,b,sig),A2(a,b,sig),A3(a,b,sig)))\n",
    "\t\t\t\tW4.append((a,b))\n",
    "\t\t\tif ZZ(mod(b,3)) == 0:\n",
    "\t\t\t\tT4d.append((A1(a,b,sig),A2(a,b,sig),A3(a,b,sig)))\n",
    "\t\t\t\tW4.append((a,b))\n",
    "\t\t\tif ZZ(mod(a,3)) == 0 and is_even(vp(a,3)) and ZZ(mod(b*d,6)) in [2,5]:\n",
    "\t\t\t\tT4e.append((A1(a,b,sig),A2(a,b,sig),A3(a,b,sig)))\n",
    "\t\t\t\tW4.append((a,b))\n",
    "\t\tif is_odd(a):\n",
    "\t\t\tif ZZ(mod(b,3)) == 0:\n",
    "\t\t\t\tT4f.append((A1(a,b,sig),A2(a,b,sig),A3(a,b,sig)))\n",
    "\t\t\t\tW4.append((a,b))\n",
    "\t\t\tif ZZ(mod(a,3)) == 0 and is_even(vp(a,3)) and ZZ(mod(b*d,6)) in [2,5]:\n",
    "\t\t\t\tT4g.append((A1(a,b,sig),A2(a,b,sig),A3(a,b,sig)))\n",
    "\t\t\t\tW4.append((a,b))\n",
    "\t\t\tif vp(a*b*(a+b),3) == 0 or is_odd(vp(a,3)):\n",
    "\t\t\t\tT4h.append((A1(a,b,sig),A2(a,b,sig),A3(a,b,sig)))\n",
    "\t\t\t\tW4.append((a,b))\n",
    "\t\t\tif ZZ(mod(a+b,3)) == 0:\n",
    "\t\t\t\tT4i.append((A1(a,b,sig),A2(a,b,sig),A3(a,b,sig)))\n",
    "\t\t\t\tW4.append((a,b))\n",
    "\t\t\tif ZZ(mod(a,3)) == 0 and is_even(vp(a,3)) and ZZ(mod(b*d,6)) in [1,4]:\n",
    "\t\t\t\tT4j.append((A1(a,b,sig),A2(a,b,sig),A3(a,b,sig)))\n",
    "\t\t\t\tW4.append((a,b))\n",
    "\tif vp(a,2) > 7 and is_even(vp(a,2)) and ZZ(mod(b*d,4)) == 3:\n",
    "\t\tif ZZ(mod(b*d,16)) in [3,11]:\n",
    "\t\t\tif ZZ(mod(b,3)) == 0:\n",
    "\t\t\t\tT4k.append((A1(a,b,sig),A2(a,b,sig),A3(a,b,sig)))\n",
    "\t\t\t\tW4.append((a,b))\n",
    "\t\t\tif ZZ(mod(a,3)) == 0 and is_even(vp(a,3)) and ZZ(mod(b*d,12)) == 11:\n",
    "\t\t\t\tT4l.append((A1(a,b,sig),A2(a,b,sig),A3(a,b,sig)))\n",
    "\t\t\t\tW4.append((a,b))\n",
    "\t\t\tif vp(a*b*(a+b),3) == 0 or is_odd(vp(a,3)):\n",
    "\t\t\t\tT4m.append((A1(a,b,sig),A2(a,b,sig),A3(a,b,sig)))\n",
    "\t\t\t\tW4.append((a,b))\n",
    "\t\t\tif ZZ(mod(a+b,3)) == 0:\n",
    "\t\t\t\tT4n.append((A1(a,b,sig),A2(a,b,sig),A3(a,b,sig)))\n",
    "\t\t\t\tW4.append((a,b))\n",
    "\t\t\tif ZZ(mod(a,3)) == 0 and is_even(vp(a,3)) and ZZ(mod(b*d,12)) ==7:\n",
    "\t\t\t\tT4o.append((A1(a,b,sig),A2(a,b,sig),A3(a,b,sig)))\n",
    "\t\t\t\tW4.append((a,b))\n",
    "\t\tif ZZ(mod(b*d,16)) in [7,15]:\n",
    "\t\t\tif ZZ(mod(b,3)) == 0:\n",
    "\t\t\t\tT4p.append((A1(a,b,sig),A2(a,b,sig),A3(a,b,sig)))\n",
    "\t\t\t\tW4.append((a,b))\n",
    "\t\t\tif ZZ(mod(a,3)) == 0 and is_even(vp(a,3)) and ZZ(mod(b*d,12)) == 11:\n",
    "\t\t\t\tT4q.append((A1(a,b,sig),A2(a,b,sig),A3(a,b,sig)))\n",
    "\t\t\t\tW4.append((a,b))\n",
    "\t\t\tif vp(a*b*(a+b),3) == 0 or is_odd(vp(a,3)):\n",
    "\t\t\t\tT4r.append((A1(a,b,sig),A2(a,b,sig),A3(a,b,sig)))\n",
    "\t\t\t\tW4.append((a,b))\n",
    "\t\t\tif ZZ(mod(a+b,3)) == 0:\n",
    "\t\t\t\tT4s.append((A1(a,b,sig),A2(a,b,sig),A3(a,b,sig)))\n",
    "\t\t\t\tW4.append((a,b))\n",
    "\t\t\tif ZZ(mod(a,3)) == 0 and ZZ(mod(b*d,12)) ==7: #and is_even(vp(a,3))\n",
    "\t\t\t\tT4t.append((A1(a,b,sig),A2(a,b,sig),A3(a,b,sig)))\n",
    "\t\t\t\tW4.append((a,b))\n",
    "print(Set(T4a) == R1)\n",
    "print(Set(T4b) == R3)\n",
    "print(Set(T4c) == R3)\n",
    "print(Set(T4d) == R5)\n",
    "print(Set(T4e) == R5)\n",
    "print(Set(T4f) == R7)\n",
    "print(Set(T4g) == R7)\n",
    "print(Set(T4h) == R10)\n",
    "print(Set(T4i) == R12)\n",
    "print(Set(T4j) == R12)\n",
    "print(Set(T4k) == R8)\n",
    "print(Set(T4l) == R8)\n",
    "print(Set(T4m) == R9)\n",
    "print(Set(T4n) == R11)\n",
    "print(Set(T4o) == R11)\n",
    "print(Set(T4p) == R7)\n",
    "print(Set(T4q) == R7)\n",
    "print(Set(T4r) == R10)\n",
    "print(Set(T4s) == R12)\n",
    "print(Set(T4t) == R12)\n",
    "print(Set(T4) == Set(W4))"
   ]
  },
  {
   "cell_type": "code",
   "execution_count": 17,
   "metadata": {
    "collapsed": false
   },
   "outputs": [
    {
     "data": {
      "text/plain": [
       "True"
      ]
     },
     "execution_count": 17,
     "metadata": {
     },
     "output_type": "execute_result"
    }
   ],
   "source": [
    "(2^9,3) in W4"
   ]
  },
  {
   "cell_type": "code",
   "execution_count": 18,
   "metadata": {
    "collapsed": false
   },
   "outputs": [
    {
     "name": "stdout",
     "output_type": "stream",
     "text": [
      "9 2\n",
      "True\n"
     ]
    }
   ],
   "source": [
    "A9,B9 = 2^9, 3\n",
    "D9 =sqdecom(A9)[1]\n",
    "print(vp(A9,2),mod(B9*D9,4))\n",
    "print(vp(A9,2)<8 or ZZ(mod(B9*D9,4)) !=3)"
   ]
  },
  {
   "cell_type": "code",
   "execution_count": 19,
   "metadata": {
    "collapsed": false
   },
   "outputs": [
    {
     "data": {
      "text/plain": [
       "(0, 1, 0, -23905, 1414655)"
      ]
     },
     "execution_count": 19,
     "metadata": {
     },
     "output_type": "execute_result"
    }
   ],
   "source": [
    "E4(2^9,3).minimal_model().ainvs()"
   ]
  },
  {
   "cell_type": "code",
   "execution_count": 20,
   "metadata": {
    "collapsed": false
   },
   "outputs": [
    {
     "name": "stdout",
     "output_type": "stream",
     "text": [
      "True\n",
      "True\n",
      "True\n",
      "True\n",
      "True\n"
     ]
    }
   ],
   "source": [
    "T5=set1(gam5,130)\n",
    "T5a=[]\n",
    "T5b=[]\n",
    "T5c=[]\n",
    "T5d=[]\n",
    "W5=[]\n",
    "for x in T5:\n",
    "\ta=x[0]\n",
    "\tb=x[1]\n",
    "\tsig=sig5\n",
    "\tif ZZ(mod(a*b,6)) == 1 or ZZ(mod(a*b,6)) == 5:\n",
    "\t\tT5a.append((A1(a,b,sig),A2(a,b,sig),A3(a,b,sig)))\n",
    "\t\tW5.append((a,b))\n",
    "\tif ZZ(mod(a*b,6)) == 3:\n",
    "\t\tT5b.append((A1(a,b,sig),A2(a,b,sig),A3(a,b,sig)))\n",
    "\t\tW5.append((a,b))\n",
    "\tif ZZ(mod(a*b,6)) == 0:\n",
    "\t\tT5c.append((A1(a,b,sig),A2(a,b,sig),A3(a,b,sig)))\n",
    "\t\tW5.append((a,b))\n",
    "\tif ZZ(mod(a*b,6)) == 2 or ZZ(mod(a*b,6)) == 4:\n",
    "\t\tT5d.append((A1(a,b,sig),A2(a,b,sig),A3(a,b,sig)))\n",
    "\t\tW5.append((a,b))\n",
    "print(Set(T5a) == R4)\n",
    "print(Set(T5b) == R6)\n",
    "print(Set(T5c) == R7)\n",
    "print(Set(T5d) == R12)\n",
    "print(Set(T5) == Set(W5))"
   ]
  },
  {
   "cell_type": "code",
   "execution_count": 21,
   "metadata": {
    "collapsed": false
   },
   "outputs": [
    {
     "name": "stdout",
     "output_type": "stream",
     "text": [
      "True\n",
      "True\n",
      "True\n",
      "True\n",
      "True\n",
      "True\n",
      "True\n"
     ]
    }
   ],
   "source": [
    "T6=set1(gam6,130)\n",
    "T6a=[]\n",
    "T6b=[]\n",
    "T6c=[]\n",
    "T6d=[]\n",
    "T6e=[]\n",
    "T6f=[]\n",
    "T6g=[]\n",
    "T6h=[]\n",
    "W6=[]\n",
    "for x in T6:\n",
    "\ta=x[0]\n",
    "\tb=x[1]\n",
    "\tsig=sig6\n",
    "\tif ZZ(mod(a,6)) == 3 and ZZ(vp(a+b,2)) in [1,2]:\n",
    "\t\tT6a.append((A1(a,b,sig),A2(a,b,sig),A3(a,b,sig)))\n",
    "\t\tW6.append((a,b))\n",
    "\tif ZZ(mod(a,6)) in [1,5] and ZZ(vp(a+b,2)) in [1,2]:\n",
    "\t\tT6b.append((A1(a,b,sig),A2(a,b,sig),A3(a,b,sig)))\n",
    "\t\tW6.append((a,b))\n",
    "\tif ZZ(mod(a,6)) in [1,5] and ZZ(vp(a+b,2)) not in [1,2,3]:\n",
    "\t\tT6c.append((A1(a,b,sig),A2(a,b,sig),A3(a,b,sig)))\n",
    "\t\tW6.append((a,b))\n",
    "\tif ZZ(mod(a,6)) in [2,4]:\n",
    "\t\tT6d.append((A1(a,b,sig),A2(a,b,sig),A3(a,b,sig)))\n",
    "\t\tW6.append((a,b))\n",
    "\tif ZZ(mod(a,6)) in [1,5] and ZZ(vp(a+b,2)) == 3:\n",
    "\t\tT6e.append((A1(a,b,sig),A2(a,b,sig),A3(a,b,sig)))\n",
    "\t\tW6.append((a,b))\n",
    "\tif ZZ(mod(a,6)) == 0:\n",
    "\t\tT6f.append((A1(a,b,sig),A2(a,b,sig),A3(a,b,sig)))\n",
    "\t\tW6.append((a,b))\n",
    "\tif ZZ(mod(a,6)) == 3 and ZZ(vp(a+b,2)) == 3:\n",
    "\t\tT6g.append((A1(a,b,sig),A2(a,b,sig),A3(a,b,sig)))\n",
    "\t\tW6.append((a,b))\n",
    "\tif ZZ(mod(a,6)) == 3 and ZZ(vp(a+b,2)) not in [1,2,3]:\n",
    "\t\tT6h.append((A1(a,b,sig),A2(a,b,sig),A3(a,b,sig)))\n",
    "\t\tW6.append((a,b))\n",
    "print(Set(T6a) == R1)\n",
    "print(Set(T6b) == R5)\n",
    "print(Set(T6c) == R7)\n",
    "print(Set(T6d) == R8 and Set(T6e) == R8)\n",
    "print(Set(T6f) == R9 and Set(T6g) == R9)\n",
    "print(Set(T6h) == R10)\n",
    "print(Set(T6) == Set(W6))"
   ]
  },
  {
   "cell_type": "code",
   "execution_count": 22,
   "metadata": {
    "collapsed": false
   },
   "outputs": [
    {
     "name": "stdout",
     "output_type": "stream",
     "text": [
      "True\n",
      "True\n",
      "True\n"
     ]
    }
   ],
   "source": [
    "T7=set1(gam7,130)\n",
    "T7a=[]\n",
    "T7b=[]\n",
    "W7=[]\n",
    "for x in T7:\n",
    "\ta=x[0]\n",
    "\tb=x[1]\n",
    "\tsig=sig7\n",
    "\tif ZZ(mod(a+b,3)) in [1,2]:\n",
    "\t\tT7a.append((A1(a,b,sig),A2(a,b,sig),A3(a,b,sig)))\n",
    "\t\tW7.append((a,b))\n",
    "\tif ZZ(mod(a+b,3)) == 0:\n",
    "\t\tT7b.append((A1(a,b,sig),A2(a,b,sig),A3(a,b,sig)))\n",
    "\t\tW7.append((a,b))\n",
    "print(Set(T7a) == R7)\n",
    "print(Set(T7b) == R10)\n",
    "print(Set(T7) == Set(W7))"
   ]
  },
  {
   "cell_type": "code",
   "execution_count": 23,
   "metadata": {
    "collapsed": false
   },
   "outputs": [
    {
     "name": "stdout",
     "output_type": "stream",
     "text": [
      "True\n",
      "True\n",
      "True\n",
      "True\n",
      "True\n"
     ]
    }
   ],
   "source": [
    "T8=set1(gam8,130)\n",
    "T8a=[]\n",
    "T8b=[]\n",
    "T8c=[]\n",
    "T8d=[]\n",
    "W8=[]\n",
    "for x in T8:\n",
    "\ta=x[0]\n",
    "\tb=x[1]\n",
    "\tsig=sig8\n",
    "\tif ZZ(mod(a,12)) == 0:\n",
    "\t\tT8a.append((A1(a,b,sig),A2(a,b,sig),A3(a,b,sig)))\n",
    "\t\tW8.append((a,b))\n",
    "\tif ZZ(mod(a,12)) in [4,8]:\n",
    "\t\tT8b.append((A1(a,b,sig),A2(a,b,sig),A3(a,b,sig)))\n",
    "\t\tW8.append((a,b))\n",
    "\tif ZZ(mod(a,12)) in [1,11,2,10,5,7]:\n",
    "\t\tT8c.append((A1(a,b,sig),A2(a,b,sig),A3(a,b,sig)))\n",
    "\t\tW8.append((a,b))\n",
    "\tif ZZ(mod(a,12)) in [3,6,9]:\n",
    "\t\tT8d.append((A1(a,b,sig),A2(a,b,sig),A3(a,b,sig)))\n",
    "\t\tW8.append((a,b))\n",
    "print(Set(T8a) == R3)\n",
    "print(Set(T8b) == R5)\n",
    "print(Set(T8c) == R7)\n",
    "print(Set(T8d) == R12)\n",
    "print(Set(T8) == Set(W8))"
   ]
  },
  {
   "cell_type": "code",
   "execution_count": 24,
   "metadata": {
    "collapsed": false
   },
   "outputs": [
    {
     "name": "stdout",
     "output_type": "stream",
     "text": [
      "True\n",
      "True\n",
      "True\n"
     ]
    }
   ],
   "source": [
    "T9=set1(gam9,130)\n",
    "T9a=[]\n",
    "T9b=[]\n",
    "W9=[]\n",
    "for x in T9:\n",
    "\ta=x[0]\n",
    "\tb=x[1]\n",
    "\tsig=sig9\n",
    "\tif ZZ(mod(a+b,3)) in [1,2]:\n",
    "\t\tT9a.append((A1(a,b,sig),A2(a,b,sig),A3(a,b,sig)))\n",
    "\t\tW9.append((a,b))\n",
    "\tif ZZ(mod(a+b,3)) == 0:\n",
    "\t\tT9b.append((A1(a,b,sig),A2(a,b,sig),A3(a,b,sig)))\n",
    "\t\tW9.append((a,b))\n",
    "print(Set(T9a) == R7)\n",
    "print(Set(T9b) == R10)\n",
    "print(Set(T9) == Set(W9))"
   ]
  },
  {
   "cell_type": "code",
   "execution_count": 25,
   "metadata": {
    "collapsed": false
   },
   "outputs": [
    {
     "name": "stdout",
     "output_type": "stream",
     "text": [
      "True\n",
      "True\n"
     ]
    }
   ],
   "source": [
    "T10=set1(gam10,130)\n",
    "T10a=[]\n",
    "W10=[]\n",
    "for x in T10:\n",
    "\ta=x[0]\n",
    "\tb=x[1]\n",
    "\tsig=sig10\n",
    "\tT10a.append((A1(a,b,sig),A2(a,b,sig),A3(a,b,sig)))\n",
    "\tW10.append((a,b))\n",
    "print(Set(T10a) == R7)\n",
    "print(Set(T10) == Set(W10))"
   ]
  },
  {
   "cell_type": "code",
   "execution_count": 26,
   "metadata": {
    "collapsed": false
   },
   "outputs": [
    {
     "name": "stdout",
     "output_type": "stream",
     "text": [
      "True\n",
      "True\n",
      "True\n",
      "True\n",
      "True\n"
     ]
    }
   ],
   "source": [
    "T12=set1(gam12,130)\n",
    "T12a=[]\n",
    "T12b=[]\n",
    "T12c=[]\n",
    "T12d=[]\n",
    "W12=[]\n",
    "for x in T12:\n",
    "\ta=x[0]\n",
    "\tb=x[1]\n",
    "\tsig=sig12\n",
    "\tif ZZ(mod(a,12)) in [1,11,2,10,5,7]:\n",
    "\t\tT12a.append((A1(a,b,sig),A2(a,b,sig),A3(a,b,sig)))\n",
    "\t\tW12.append((a,b))\n",
    "\tif ZZ(mod(a,12)) in [4,8]:\n",
    "\t\tT12b.append((A1(a,b,sig),A2(a,b,sig),A3(a,b,sig)))\n",
    "\t\tW12.append((a,b))\n",
    "\tif ZZ(mod(a,12)) == 0:\n",
    "\t\tT12c.append((A1(a,b,sig),A2(a,b,sig),A3(a,b,sig)))\n",
    "\t\tW12.append((a,b))\n",
    "\tif ZZ(mod(a,12)) in [3,6,9]:\n",
    "\t\tT12d.append((A1(a,b,sig),A2(a,b,sig),A3(a,b,sig)))\n",
    "\t\tW12.append((a,b))\n",
    "print(Set(T12a) == R7)\n",
    "print(Set(T12b) == R8)\n",
    "print(Set(T12c) == R9)\n",
    "print(Set(T12d) == R10)\n",
    "print(Set(T12) == Set(W12))"
   ]
  },
  {
   "cell_type": "code",
   "execution_count": 27,
   "metadata": {
    "collapsed": false
   },
   "outputs": [
    {
     "name": "stdout",
     "output_type": "stream",
     "text": [
      "True\n",
      "True\n",
      "True\n",
      "True\n",
      "True\n"
     ]
    }
   ],
   "source": [
    "T24=set1(gam24,130)\n",
    "T24a=[]\n",
    "T24b=[]\n",
    "T24c=[]\n",
    "T24d=[]\n",
    "T24e=[]\n",
    "T24f=[]\n",
    "T24g=[]\n",
    "T24h=[]\n",
    "T24i=[]\n",
    "T24j=[]\n",
    "T24k=[]\n",
    "T24l=[]\n",
    "W24=[]\n",
    "for x in T24:\n",
    "\ta=x[0]\n",
    "\tb=x[1]\n",
    "\tsig=sig24\n",
    "\tif ZZ(mod(a,12)) == 6 and ZZ(mod(a*b,12)) == 6:\n",
    "\t\tT24a.append((A1(a,b,sig),A2(a,b,sig),A3(a,b,sig)))\n",
    "\t\tW24.append((a,b))\n",
    "\tif ZZ(mod(a,12)) == 0 and ZZ(mod(a*b,48)) in [0,24,36]:\n",
    "\t\tT24b.append((A1(a,b,sig),A2(a,b,sig),A3(a,b,sig)))\n",
    "\t\tW24.append((a,b))\n",
    "\tif ZZ(mod(a,12)) in [2,10] and ZZ(mod(a*b,12)) == 10:\n",
    "\t\tT24c.append((A1(a,b,sig),A2(a,b,sig),A3(a,b,sig)))\n",
    "\t\tW24.append((a,b))\n",
    "\tif ZZ(mod(a,12)) in [4,8] and ZZ(mod(a*b,48)) in [4,16,40]:\n",
    "\t\tT24d.append((A1(a,b,sig),A2(a,b,sig),A3(a,b,sig)))\n",
    "\t\tW24.append((a,b))\n",
    "\tif ZZ(mod(a,12)) in [2,10] and ZZ(mod(a*b,12)) in [2,6]:\n",
    "\t\tT24e.append((A1(a,b,sig),A2(a,b,sig),A3(a,b,sig)))\n",
    "\t\tW24.append((a,b))\n",
    "\tif ZZ(mod(a,12)) in [4,8] and ZZ(mod(a*b,48)) in [0,8,20,24,32,36]:\n",
    "\t\tT24f.append((A1(a,b,sig),A2(a,b,sig),A3(a,b,sig)))\n",
    "\t\tW24.append((a,b))\n",
    "\tif ZZ(mod(a,6)) in [1,5] and ZZ(mod(a*b,3)) in [0, 2]:\n",
    "\t\tT24g.append((A1(a,b,sig),A2(a,b,sig),A3(a,b,sig)))\n",
    "\t\tW24.append((a,b))\n",
    "\tif ZZ(mod(a,12)) in [4,8] and ZZ(mod(a*b,48)) in [12,44]:\n",
    "\t\tT24h.append((A1(a,b,sig),A2(a,b,sig),A3(a,b,sig)))\n",
    "\t\tW24.append((a,b))\n",
    "\tif ZZ(mod(a,6)) in [1,5] and ZZ(mod(a*b,3)) == 1:\n",
    "\t\tT24i.append((A1(a,b,sig),A2(a,b,sig),A3(a,b,sig)))\n",
    "\t\tW24.append((a,b))\n",
    "\tif ZZ(mod(a,6)) == 3 and ZZ(mod(a*b,3)) == 0:\n",
    "\t\tT24j.append((A1(a,b,sig),A2(a,b,sig),A3(a,b,sig)))\n",
    "\t\tW24.append((a,b))\n",
    "\tif ZZ(mod(a,12)) in [4,8] and ZZ(mod(a*b,48)) == 28:\n",
    "\t\tT24k.append((A1(a,b,sig),A2(a,b,sig),A3(a,b,sig)))\n",
    "\t\tW24.append((a,b))\n",
    "\tif ZZ(mod(a,12)) ==0 and ZZ(mod(a*b,48)) ==12:\n",
    "\t\tT24l.append((A1(a,b,sig),A2(a,b,sig),A3(a,b,sig)))\n",
    "\t\tW24.append((a,b))\n",
    "print(Set(T24a) == R3 and Set(T24b) == R3 and Set(T24c) == R3 and Set(T24d) == R3)\n",
    "print(Set(T24e) == R5 and Set(T24f) == R5)\n",
    "print(Set(T24g) == R7 and Set(T24h) == R7)\n",
    "print(Set(T24i) == R12 and Set(T24j) == R12 and Set(T24k) == R12 and Set(T24l) == R12)\n",
    "print(Set(T24) == Set(W24))"
   ]
  },
  {
   "cell_type": "code",
   "execution_count": 28,
   "metadata": {
    "collapsed": false
   },
   "outputs": [
    {
     "name": "stdout",
     "output_type": "stream",
     "text": [
      "True\n",
      "True\n",
      "True\n",
      "True\n",
      "True\n"
     ]
    }
   ],
   "source": [
    "T26=set1(gam26,130)\n",
    "T26a=[]\n",
    "T26b=[]\n",
    "T26c=[]\n",
    "T26d=[]\n",
    "T26e=[]\n",
    "T26f=[]\n",
    "W26=[]\n",
    "for x in T26:\n",
    "\ta=x[0]\n",
    "\tb=x[1]\n",
    "\tsig=sig26\n",
    "\tif is_odd(a+b) and ZZ(mod(b,3)) != 0:\n",
    "\t\tT26a.append((A1(a,b,sig),A2(a,b,sig),A3(a,b,sig)))\n",
    "\t\tW26.append((a,b))\n",
    "\tif is_even(a+b) and ZZ(mod(a*(a+b),48)) in [2,6,18,38]:\n",
    "\t\tT26b.append((A1(a,b,sig),A2(a,b,sig),A3(a,b,sig)))\n",
    "\t\tW26.append((a,b))\n",
    "\tif is_even(a+b) and ZZ(mod(a*(a+b),48)) in [0,8,12,14,20,24,26,32,30,36,42,44]:\n",
    "\t\tT26c.append((A1(a,b,sig),A2(a,b,sig),A3(a,b,sig)))\n",
    "\t\tW26.append((a,b))\n",
    "\tif is_even(a+b) and ZZ(mod(a*(a+b),48)) in [4,10,16,28,40,46]:\n",
    "\t\tT26d.append((A1(a,b,sig),A2(a,b,sig),A3(a,b,sig)))\n",
    "\t\tW26.append((a,b))\n",
    "\tif is_odd(a+b) and ZZ(mod(b,3)) == 0:\n",
    "\t\tT26e.append((A1(a,b,sig),A2(a,b,sig),A3(a,b,sig)))\n",
    "\t\tW26.append((a,b))\n",
    "\tif is_even(a+b) and ZZ(mod(a*(a+b),48)) in [22,34]:\n",
    "\t\tT26f.append((A1(a,b,sig),A2(a,b,sig),A3(a,b,sig)))\n",
    "\t\tW26.append((a,b))\n",
    "print(Set(T26a) == R7 and Set(T26b) == R7)\n",
    "print(Set(T26c) == R8)\n",
    "print(Set(T26d) == R9)\n",
    "print(Set(T26e) == R10 and Set(T26f) == R10)\n",
    "print(Set(T26) == Set(W26))"
   ]
  },
  {
   "cell_type": "code",
   "execution_count": 29,
   "metadata": {
    "collapsed": false
   },
   "outputs": [
    {
     "name": "stdout",
     "output_type": "stream",
     "text": [
      "True\n",
      "True\n"
     ]
    }
   ],
   "source": [
    "T28=set1(gam28,130)\n",
    "T28a=[]\n",
    "W28=[]\n",
    "for x in T28:\n",
    "\ta=x[0]\n",
    "\tb=x[1]\n",
    "\tsig=sig28\n",
    "\tT28a.append((A1(a,b,sig),A2(a,b,sig),A3(a,b,sig)))\n",
    "\tW28.append((a,b))\n",
    "print(Set(T28a) == R7)\n",
    "print(Set(T28) == Set(W28))"
   ]
  },
  {
   "cell_type": "code",
   "execution_count": 30,
   "metadata": {
    "collapsed": false
   },
   "outputs": [
    {
     "data": {
      "text/plain": [
       "20613"
      ]
     },
     "execution_count": 30,
     "metadata": {
     },
     "output_type": "execute_result"
    }
   ],
   "source": [
    "Set(T3).cardinality()"
   ]
  },
  {
   "cell_type": "code",
   "execution_count": 0,
   "metadata": {
    "collapsed": false
   },
   "outputs": [
   ],
   "source": [
   ]
  },
  {
   "cell_type": "code",
   "execution_count": 0,
   "metadata": {
    "collapsed": false
   },
   "outputs": [
   ],
   "source": [
   ]
  }
 ],
 "metadata": {
  "kernelspec": {
   "display_name": "SageMath 9.1",
   "language": "sagemath",
   "metadata": {
    "cocalc": {
     "description": "Open-source mathematical software system",
     "priority": 10,
     "url": "https://www.sagemath.org/"
    }
   },
   "name": "sage-9.1",
   "resource_dir": "/ext/jupyter/kernels/sage-9.1"
  },
  "language_info": {
   "codemirror_mode": {
    "name": "ipython",
    "version": 3
   },
   "file_extension": ".py",
   "mimetype": "text/x-python",
   "name": "python",
   "nbconvert_exporter": "python",
   "pygments_lexer": "ipython3",
   "version": "3.7.3"
  }
 },
 "nbformat": 4,
 "nbformat_minor": 4
}