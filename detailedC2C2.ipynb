{
 "cells": [
  {
   "cell_type": "code",
   "execution_count": 1,
   "metadata": {
    "collapsed": false
   },
   "outputs": [
   ],
   "source": [
    "load('definitions.sage')"
   ]
  },
  {
   "cell_type": "code",
   "execution_count": 2,
   "metadata": {
    "collapsed": false
   },
   "outputs": [
    {
     "name": "stdout",
     "output_type": "stream",
     "text": [
      "-32*(2*a - b)*(a + b)*(a - 2*b)*d^3\n",
      "-1/2*(2*a - b)*(a + b)*(a - 2*b)*d^3\n"
     ]
    }
   ],
   "source": [
    "F22=E22(a,b,d)\n",
    "print(factor(F22.c6()))\n",
    "print(factor(2^(-6)*F22.c6()))"
   ]
  },
  {
   "cell_type": "markdown",
   "metadata": {
    "collapsed": false
   },
   "source": [
    "**Case 1** Suppose $a$ is even such that $v_2(a) \\leq 7$ or $bd \\not \\equiv 3 \\mod 4$. The code below verifies that $\\frac{c_{6}}{2}\\equiv16d^{3}\\left(  a+b\\right)  ^{3}\\ \\operatorname{mod}24$."
   ]
  },
  {
   "cell_type": "code",
   "execution_count": 3,
   "metadata": {
    "collapsed": false
   },
   "outputs": [
    {
     "name": "stdout",
     "output_type": "stream",
     "text": [
      "True\n"
     ]
    }
   ],
   "source": [
    "C6 = S(E22(a,b,d).c6())\n",
    "print(PolyMod(C6/2 - (16 * d^3 *(a+b)^3) ,24) == 0)"
   ]
  },
  {
   "cell_type": "markdown",
   "metadata": {
    "collapsed": false
   },
   "source": [
    "The code below verifies the congruences given for $\\frac{c_6}{2}$."
   ]
  },
  {
   "cell_type": "code",
   "execution_count": 4,
   "metadata": {
    "collapsed": false
   },
   "outputs": [
    {
     "name": "stdout",
     "output_type": "stream",
     "text": [
      "{0}\n",
      "{8}\n",
      "{16}\n"
     ]
    }
   ],
   "source": [
    "Z = [ [] for n in (0..12)]\n",
    "for A in (1..32):\n",
    "\tfor B in (1..32):\n",
    "\t\tfor D in (1..32):\n",
    "\t\t\tif gcd(A,B)==1 and is_even(A) and is_squarefree(D):\n",
    "\t\t\t\tif vp(A,2) < 4 or ZZ(mod(B*D,4)) != 1:\n",
    "\t\t\t\t\tc6 = -32 * D^3 * (2*A - B) * (A + B) * (A - 2*B)\n",
    "\t\t\t\t\ta1 = ZZ(mod(c6,2))\n",
    "\t\t\t\t\tc = 2^(a1-1)*c6\n",
    "\t\t\t\t\tif ZZ(mod(D*(A+B),3)) == 0:\n",
    "\t\t\t\t\t\tZ[1].append(ZZ(mod(c,24)))\n",
    "\t\t\t\t\tif ZZ(mod(D*(A+B),3)) == 2:\n",
    "\t\t\t\t\t\tZ[3].append(ZZ(mod(c,24)))\n",
    "\t\t\t\t\tif ZZ(mod(D*(A+B),3)) == 1:\n",
    "\t\t\t\t\t\tZ[5].append(ZZ(mod(c,24)))\n",
    "print(Set(Z[1]))\n",
    "print(Set(Z[3]))\n",
    "print(Set(Z[5]))"
   ]
  },
  {
   "cell_type": "markdown",
   "metadata": {
    "collapsed": false
   },
   "source": [
    "**Case 2.** Suppose $v_2(a) \\geq 4$ and $bd \\equiv 1 \\mod 4$. In particular, let $a=16k$ and $bd = 1 + 4l$ for some integers $k,l$. In particular, $b=\\frac{1+4l}{d}$. The code below verifies that $c_6 \\equiv -d^3 (16k + \\frac{1+4l}{d})^3 \\mod 24 = -d^3(a +b)^3$."
   ]
  },
  {
   "cell_type": "code",
   "execution_count": 5,
   "metadata": {
    "collapsed": false
   },
   "outputs": [
    {
     "name": "stdout",
     "output_type": "stream",
     "text": [
      "True\n"
     ]
    }
   ],
   "source": [
    "C6 = S(E22(16*k,(1+4*l)/d,d).change_weierstrass_model(2).c6())\n",
    "print(PolyMod(C6 - expand((-1*d^3 * (16*k+ (1+4*l)/d)^3)),24) == 0)"
   ]
  },
  {
   "cell_type": "markdown",
   "metadata": {
    "collapsed": false
   },
   "source": [
    "The code below verifies the congruences given for $c_6$."
   ]
  },
  {
   "cell_type": "code",
   "execution_count": 6,
   "metadata": {
    "collapsed": false
   },
   "outputs": [
    {
     "name": "stdout",
     "output_type": "stream",
     "text": [
      "{23}\n",
      "{11}\n",
      "{3}\n",
      "{15}\n",
      "{19}\n",
      "{7}\n"
     ]
    }
   ],
   "source": [
    "for A in (1..32):\n",
    "\tfor B in (1..32):\n",
    "\t\tfor D in (1..32):\n",
    "\t\t\tif gcd(A,B)==1 and is_even(A) and is_squarefree(D):\n",
    "\t\t\t\tif vp(A,2) > 3 and ZZ(mod(B*D,4)) == 1:\n",
    "\t\t\t\t\tc6 = -D^3 * (2*A - B) * (A + B) * (A/2 - B)\n",
    "\t\t\t\t\ta1 = ZZ(mod(c6,2))\n",
    "\t\t\t\t\tc = 2^(a1-1)*c6\n",
    "\t\t\t\t\tif ZZ(mod(D*(A+B),24)) == 1:\n",
    "\t\t\t\t\t\tZ[7].append(ZZ(mod(c,24)))\n",
    "\t\t\t\t\tif ZZ(mod(D*(A+B),24)) == 13:\n",
    "\t\t\t\t\t\tZ[8].append(ZZ(mod(c,24)))\n",
    "\t\t\t\t\tif ZZ(mod(D*(A+B),24)) == 21:\n",
    "\t\t\t\t\t\tZ[9].append(ZZ(mod(c,24)))\n",
    "\t\t\t\t\tif ZZ(mod(D*(A+B),24)) == 9:\n",
    "\t\t\t\t\t\tZ[10].append(ZZ(mod(c,24)))\n",
    "\t\t\t\t\tif ZZ(mod(D*(A+B),24)) == 5:\n",
    "\t\t\t\t\t\tZ[11].append(ZZ(mod(c,24)))\n",
    "\t\t\t\t\tif ZZ(mod(D*(A+B),24)) == 17:\n",
    "\t\t\t\t\t\tZ[12].append(ZZ(mod(c6,24)))\n",
    "for n in (7..12):\n",
    "\tprint(Set(Z[n]))"
   ]
  }
 ],
 "metadata": {
  "kernelspec": {
   "display_name": "SageMath 9.1",
   "language": "sagemath",
   "metadata": {
    "cocalc": {
     "description": "Open-source mathematical software system",
     "priority": 1,
     "url": "https://www.sagemath.org/"
    }
   },
   "name": "sage-9.1",
   "resource_dir": "/ext/jupyter/kernels/sage-9.1"
  },
  "language_info": {
   "codemirror_mode": {
    "name": "ipython",
    "version": 3
   },
   "file_extension": ".py",
   "mimetype": "text/x-python",
   "name": "python",
   "nbconvert_exporter": "python",
   "pygments_lexer": "ipython3",
   "version": "3.7.3"
  }
 },
 "nbformat": 4,
 "nbformat_minor": 4
}